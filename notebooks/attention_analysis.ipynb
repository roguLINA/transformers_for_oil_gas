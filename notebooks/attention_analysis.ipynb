{
 "cells": [
  {
   "cell_type": "code",
   "execution_count": 1,
   "metadata": {
    "id": "7Dk__2Va_CNw",
    "pycharm": {
     "name": "#%%\n"
    }
   },
   "outputs": [],
   "source": [
    "import os\n",
    "import json\n",
    "import pandas as pd\n",
    "import numpy as np\n",
    "import matplotlib.pyplot as plt\n",
    "\n",
    "import torch\n",
    "from torch.utils.data import DataLoader\n",
    "\n",
    "from tqdm import tqdm\n",
    "\n",
    "import warnings\n",
    "warnings.filterwarnings('ignore')\n",
    "\n",
    "from trans_oil_gas import utils_dataset, utils_attn, utils_fix_seeds, utils_model"
   ]
  },
  {
   "cell_type": "markdown",
   "metadata": {
    "pycharm": {
     "name": "#%% md\n"
    }
   },
   "source": [
    "Set parameters for plots."
   ]
  },
  {
   "cell_type": "code",
   "execution_count": 2,
   "metadata": {
    "collapsed": false,
    "jupyter": {
     "outputs_hidden": false
    },
    "pycharm": {
     "name": "#%%\n"
    }
   },
   "outputs": [],
   "source": [
    "plt.rc('font', size=16)          # controls default text sizes\n",
    "plt.rc('axes', titlesize=20)     # fontsize of the axes title\n",
    "plt.rc('axes', labelsize=20)     # fontsize of the x and y labels\n",
    "plt.rc('xtick', labelsize=20)    # fontsize of the tick labels\n",
    "plt.rc('ytick', labelsize=20)    # fontsize of the tick labels\n",
    "plt.rc('legend', fontsize=18)    # legend fontsize\n",
    "plt.rc('figure', titlesize=16)   # fontsize of the figure title"
   ]
  },
  {
   "cell_type": "markdown",
   "metadata": {
    "pycharm": {
     "name": "#%% md\n"
    }
   },
   "source": [
    "Choose GPU device if it is available."
   ]
  },
  {
   "cell_type": "code",
   "execution_count": 3,
   "metadata": {
    "pycharm": {
     "name": "#%%\n"
    }
   },
   "outputs": [
    {
     "data": {
      "text/plain": [
       "(device(type='cuda'), [0])"
      ]
     },
     "execution_count": 3,
     "metadata": {},
     "output_type": "execute_result"
    }
   ],
   "source": [
    "device = torch.device('cuda' if torch.cuda.is_available() else 'cpu')\n",
    "gpu = [0] if 'cuda' in device.type else 0\n",
    "device, gpu"
   ]
  },
  {
   "cell_type": "markdown",
   "metadata": {
    "pycharm": {
     "name": "#%% md\n"
    }
   },
   "source": [
    "Fix all possible seeds for results reproducibility."
   ]
  },
  {
   "cell_type": "code",
   "execution_count": 4,
   "metadata": {
    "pycharm": {
     "name": "#%%\n"
    }
   },
   "outputs": [],
   "source": [
    "utils_fix_seeds.fix_seeds(device=device)"
   ]
  },
  {
   "cell_type": "markdown",
   "metadata": {
    "id": "rrCf4945_CNz",
    "pycharm": {
     "name": "#%% md\n"
    }
   },
   "source": [
    "# Read data"
   ]
  },
  {
   "cell_type": "markdown",
   "metadata": {
    "pycharm": {
     "name": "#%% md\n"
    }
   },
   "source": [
    "Reading of already preprocessed data (here synthetic dataset with the same columns as in the original one is presented)."
   ]
  },
  {
   "cell_type": "code",
   "execution_count": 5,
   "metadata": {
    "colab": {
     "base_uri": "https://localhost:8080/"
    },
    "executionInfo": {
     "elapsed": 123595,
     "status": "ok",
     "timestamp": 1634129745274,
     "user": {
      "displayName": "Алина Рогулина",
      "photoUrl": "https://lh3.googleusercontent.com/a/default-user=s64",
      "userId": "15638188587294648024"
     },
     "user_tz": -180
    },
    "id": "F-dnFjUA_CN2",
    "outputId": "2e7b9bb2-88a6-4267-911f-f4cd9759faa2",
    "pycharm": {
     "name": "#%%\n"
    }
   },
   "outputs": [
    {
     "data": {
      "text/html": [
       "<div>\n",
       "<style scoped>\n",
       "    .dataframe tbody tr th:only-of-type {\n",
       "        vertical-align: middle;\n",
       "    }\n",
       "\n",
       "    .dataframe tbody tr th {\n",
       "        vertical-align: top;\n",
       "    }\n",
       "\n",
       "    .dataframe thead th {\n",
       "        text-align: right;\n",
       "    }\n",
       "</style>\n",
       "<table border=\"1\" class=\"dataframe\">\n",
       "  <thead>\n",
       "    <tr style=\"text-align: right;\">\n",
       "      <th></th>\n",
       "      <th>DRHO</th>\n",
       "      <th>DENS</th>\n",
       "      <th>GR</th>\n",
       "      <th>DTC</th>\n",
       "      <th>WELLNAME</th>\n",
       "    </tr>\n",
       "  </thead>\n",
       "  <tbody>\n",
       "    <tr>\n",
       "      <th>0</th>\n",
       "      <td>0.01778</td>\n",
       "      <td>2.3794</td>\n",
       "      <td>1.214982</td>\n",
       "      <td>101.5516</td>\n",
       "      <td>26</td>\n",
       "    </tr>\n",
       "    <tr>\n",
       "      <th>1</th>\n",
       "      <td>0.01701</td>\n",
       "      <td>2.3705</td>\n",
       "      <td>1.086457</td>\n",
       "      <td>101.6722</td>\n",
       "      <td>26</td>\n",
       "    </tr>\n",
       "    <tr>\n",
       "      <th>2</th>\n",
       "      <td>0.01624</td>\n",
       "      <td>2.3615</td>\n",
       "      <td>0.957933</td>\n",
       "      <td>101.7928</td>\n",
       "      <td>26</td>\n",
       "    </tr>\n",
       "    <tr>\n",
       "      <th>3</th>\n",
       "      <td>0.01779</td>\n",
       "      <td>2.3593</td>\n",
       "      <td>0.493992</td>\n",
       "      <td>101.1051</td>\n",
       "      <td>26</td>\n",
       "    </tr>\n",
       "    <tr>\n",
       "      <th>4</th>\n",
       "      <td>0.02008</td>\n",
       "      <td>2.3591</td>\n",
       "      <td>-0.076734</td>\n",
       "      <td>100.1601</td>\n",
       "      <td>26</td>\n",
       "    </tr>\n",
       "    <tr>\n",
       "      <th>...</th>\n",
       "      <td>...</td>\n",
       "      <td>...</td>\n",
       "      <td>...</td>\n",
       "      <td>...</td>\n",
       "      <td>...</td>\n",
       "    </tr>\n",
       "    <tr>\n",
       "      <th>730</th>\n",
       "      <td>0.11269</td>\n",
       "      <td>2.6161</td>\n",
       "      <td>0.742381</td>\n",
       "      <td>92.0410</td>\n",
       "      <td>127</td>\n",
       "    </tr>\n",
       "    <tr>\n",
       "      <th>731</th>\n",
       "      <td>0.11269</td>\n",
       "      <td>2.6161</td>\n",
       "      <td>0.775581</td>\n",
       "      <td>92.1752</td>\n",
       "      <td>127</td>\n",
       "    </tr>\n",
       "    <tr>\n",
       "      <th>732</th>\n",
       "      <td>0.11269</td>\n",
       "      <td>2.6161</td>\n",
       "      <td>0.686798</td>\n",
       "      <td>91.6055</td>\n",
       "      <td>127</td>\n",
       "    </tr>\n",
       "    <tr>\n",
       "      <th>733</th>\n",
       "      <td>0.11269</td>\n",
       "      <td>2.6161</td>\n",
       "      <td>0.614402</td>\n",
       "      <td>91.7522</td>\n",
       "      <td>127</td>\n",
       "    </tr>\n",
       "    <tr>\n",
       "      <th>734</th>\n",
       "      <td>0.11269</td>\n",
       "      <td>2.6161</td>\n",
       "      <td>0.421493</td>\n",
       "      <td>91.9582</td>\n",
       "      <td>127</td>\n",
       "    </tr>\n",
       "  </tbody>\n",
       "</table>\n",
       "<p>735 rows × 5 columns</p>\n",
       "</div>"
      ],
      "text/plain": [
       "        DRHO    DENS        GR       DTC  WELLNAME\n",
       "0    0.01778  2.3794  1.214982  101.5516        26\n",
       "1    0.01701  2.3705  1.086457  101.6722        26\n",
       "2    0.01624  2.3615  0.957933  101.7928        26\n",
       "3    0.01779  2.3593  0.493992  101.1051        26\n",
       "4    0.02008  2.3591 -0.076734  100.1601        26\n",
       "..       ...     ...       ...       ...       ...\n",
       "730  0.11269  2.6161  0.742381   92.0410       127\n",
       "731  0.11269  2.6161  0.775581   92.1752       127\n",
       "732  0.11269  2.6161  0.686798   91.6055       127\n",
       "733  0.11269  2.6161  0.614402   91.7522       127\n",
       "734  0.11269  2.6161  0.421493   91.9582       127\n",
       "\n",
       "[735 rows x 5 columns]"
      ]
     },
     "execution_count": 5,
     "metadata": {},
     "output_type": "execute_result"
    }
   ],
   "source": [
    "df = pd.read_csv('../data/synthetic_well_log_data.csv')\n",
    "df"
   ]
  },
  {
   "cell_type": "code",
   "execution_count": 6,
   "metadata": {
    "pycharm": {
     "name": "#%%\n"
    }
   },
   "outputs": [],
   "source": [
    "slice_len = 100\n",
    "well_column = \"WELLNAME\"\n",
    "save_dir = \"./saves/\"\n",
    "log_dir = \"./logs/\""
   ]
  },
  {
   "cell_type": "markdown",
   "metadata": {
    "pycharm": {
     "name": "#%% md\n"
    }
   },
   "source": [
    "# Load pretrained Siamese Transformer"
   ]
  },
  {
   "cell_type": "code",
   "execution_count": 7,
   "metadata": {
    "pycharm": {
     "name": "#%%\n"
    }
   },
   "outputs": [],
   "source": [
    "fixed_params_tr = {\n",
    "    \"d_model\": 4,\n",
    "}"
   ]
  },
  {
   "cell_type": "code",
   "execution_count": 8,
   "metadata": {
    "pycharm": {
     "name": "#%%\n"
    }
   },
   "outputs": [
    {
     "data": {
      "text/plain": [
       "{'nhead': 1,\n",
       " 'dim_feedforward': 2048,\n",
       " 'dropout': 0.48276561038285704,\n",
       " 'num_layers': 5,\n",
       " 'hidden_size': 128,\n",
       " 'fc_hidden_size': 128}"
      ]
     },
     "execution_count": 8,
     "metadata": {},
     "output_type": "execute_result"
    }
   ],
   "source": [
    "with open(os.path.join(save_dir, \"best_params_siamese_transformer.json\"), \"r\") as f:\n",
    "    best_params_tr = json.load(f)\n",
    "best_params_tr[\"fc_hidden_size\"] = best_params_tr[\"hidden_size\"]\n",
    "best_params_tr"
   ]
  },
  {
   "cell_type": "code",
   "execution_count": 9,
   "metadata": {
    "pycharm": {
     "name": "#%%\n"
    },
    "scrolled": true
   },
   "outputs": [
    {
     "data": {
      "text/plain": [
       "SiameseArchitecture(\n",
       "  (positional_encoding): PositionalEncoding()\n",
       "  (encoder): TransformerEncoder(\n",
       "    (layers): ModuleList(\n",
       "      (0): EncoderBlock(\n",
       "        (self_attn): MultiheadAttention(\n",
       "          (qkv_proj): Linear(in_features=4, out_features=12, bias=True)\n",
       "          (o_proj): Linear(in_features=4, out_features=4, bias=True)\n",
       "        )\n",
       "        (linear_net): Sequential(\n",
       "          (0): Linear(in_features=4, out_features=2048, bias=True)\n",
       "          (1): Dropout(p=0.48276561038285704, inplace=False)\n",
       "          (2): ReLU(inplace=True)\n",
       "          (3): Linear(in_features=2048, out_features=4, bias=True)\n",
       "        )\n",
       "        (norm1): LayerNorm((4,), eps=1e-05, elementwise_affine=True)\n",
       "        (norm2): LayerNorm((4,), eps=1e-05, elementwise_affine=True)\n",
       "        (dropout): Dropout(p=0.48276561038285704, inplace=False)\n",
       "      )\n",
       "      (1): EncoderBlock(\n",
       "        (self_attn): MultiheadAttention(\n",
       "          (qkv_proj): Linear(in_features=4, out_features=12, bias=True)\n",
       "          (o_proj): Linear(in_features=4, out_features=4, bias=True)\n",
       "        )\n",
       "        (linear_net): Sequential(\n",
       "          (0): Linear(in_features=4, out_features=2048, bias=True)\n",
       "          (1): Dropout(p=0.48276561038285704, inplace=False)\n",
       "          (2): ReLU(inplace=True)\n",
       "          (3): Linear(in_features=2048, out_features=4, bias=True)\n",
       "        )\n",
       "        (norm1): LayerNorm((4,), eps=1e-05, elementwise_affine=True)\n",
       "        (norm2): LayerNorm((4,), eps=1e-05, elementwise_affine=True)\n",
       "        (dropout): Dropout(p=0.48276561038285704, inplace=False)\n",
       "      )\n",
       "      (2): EncoderBlock(\n",
       "        (self_attn): MultiheadAttention(\n",
       "          (qkv_proj): Linear(in_features=4, out_features=12, bias=True)\n",
       "          (o_proj): Linear(in_features=4, out_features=4, bias=True)\n",
       "        )\n",
       "        (linear_net): Sequential(\n",
       "          (0): Linear(in_features=4, out_features=2048, bias=True)\n",
       "          (1): Dropout(p=0.48276561038285704, inplace=False)\n",
       "          (2): ReLU(inplace=True)\n",
       "          (3): Linear(in_features=2048, out_features=4, bias=True)\n",
       "        )\n",
       "        (norm1): LayerNorm((4,), eps=1e-05, elementwise_affine=True)\n",
       "        (norm2): LayerNorm((4,), eps=1e-05, elementwise_affine=True)\n",
       "        (dropout): Dropout(p=0.48276561038285704, inplace=False)\n",
       "      )\n",
       "      (3): EncoderBlock(\n",
       "        (self_attn): MultiheadAttention(\n",
       "          (qkv_proj): Linear(in_features=4, out_features=12, bias=True)\n",
       "          (o_proj): Linear(in_features=4, out_features=4, bias=True)\n",
       "        )\n",
       "        (linear_net): Sequential(\n",
       "          (0): Linear(in_features=4, out_features=2048, bias=True)\n",
       "          (1): Dropout(p=0.48276561038285704, inplace=False)\n",
       "          (2): ReLU(inplace=True)\n",
       "          (3): Linear(in_features=2048, out_features=4, bias=True)\n",
       "        )\n",
       "        (norm1): LayerNorm((4,), eps=1e-05, elementwise_affine=True)\n",
       "        (norm2): LayerNorm((4,), eps=1e-05, elementwise_affine=True)\n",
       "        (dropout): Dropout(p=0.48276561038285704, inplace=False)\n",
       "      )\n",
       "      (4): EncoderBlock(\n",
       "        (self_attn): MultiheadAttention(\n",
       "          (qkv_proj): Linear(in_features=4, out_features=12, bias=True)\n",
       "          (o_proj): Linear(in_features=4, out_features=4, bias=True)\n",
       "        )\n",
       "        (linear_net): Sequential(\n",
       "          (0): Linear(in_features=4, out_features=2048, bias=True)\n",
       "          (1): Dropout(p=0.48276561038285704, inplace=False)\n",
       "          (2): ReLU(inplace=True)\n",
       "          (3): Linear(in_features=2048, out_features=4, bias=True)\n",
       "        )\n",
       "        (norm1): LayerNorm((4,), eps=1e-05, elementwise_affine=True)\n",
       "        (norm2): LayerNorm((4,), eps=1e-05, elementwise_affine=True)\n",
       "        (dropout): Dropout(p=0.48276561038285704, inplace=False)\n",
       "      )\n",
       "    )\n",
       "  )\n",
       "  (embed_layer): Sequential(\n",
       "    (0): Flatten(start_dim=1, end_dim=-1)\n",
       "    (1): Linear(in_features=400, out_features=128, bias=True)\n",
       "  )\n",
       "  (fc): Sequential(\n",
       "    (0): Linear(in_features=256, out_features=128, bias=True)\n",
       "    (1): ReLU()\n",
       "    (2): Dropout(p=0.48276561038285704, inplace=False)\n",
       "    (3): Linear(in_features=128, out_features=128, bias=True)\n",
       "    (4): ReLU()\n",
       "    (5): Dropout(p=0.48276561038285704, inplace=False)\n",
       "    (6): Linear(in_features=128, out_features=1, bias=True)\n",
       "  )\n",
       "  (tfm): Sigmoid()\n",
       ")"
      ]
     },
     "execution_count": 9,
     "metadata": {},
     "output_type": "execute_result"
    }
   ],
   "source": [
    "siamese_tr = utils_model.SiameseArchitecture(encoder_type=\"transformer\", **fixed_params_tr, **best_params_tr).float()\n",
    "siamese_tr.load_state_dict(torch.load(os.path.join(save_dir, \"best_siamese_transformer.pth\"), map_location=device))\n",
    "siamese_tr.eval()"
   ]
  },
  {
   "cell_type": "markdown",
   "metadata": {
    "pycharm": {
     "name": "#%% md\n"
    }
   },
   "source": [
    "# Generate dataset and create dataloader"
   ]
  },
  {
   "cell_type": "code",
   "execution_count": 10,
   "metadata": {
    "pycharm": {
     "name": "#%%\n"
    },
    "scrolled": true
   },
   "outputs": [],
   "source": [
    "_, val_slice_dataset = utils_dataset.generate_datasets(\n",
    "    df, df,\n",
    "    well_column='WELLNAME',\n",
    "    slice_len=slice_len,\n",
    "    path_to_saves='./saves/',\n",
    "    results_len_train=0,\n",
    "    results_len_test=500,\n",
    ")    "
   ]
  },
  {
   "cell_type": "code",
   "execution_count": 11,
   "metadata": {
    "pycharm": {
     "name": "#%%\n"
    }
   },
   "outputs": [],
   "source": [
    "val_dataloader = DataLoader(\n",
    "    val_slice_dataset, batch_size=64, shuffle=False, num_workers=4\n",
    ")"
   ]
  },
  {
   "cell_type": "markdown",
   "metadata": {
    "pycharm": {
     "name": "#%% md\n"
    }
   },
   "source": [
    "# Correlation between attention and gradients"
   ]
  },
  {
   "cell_type": "markdown",
   "metadata": {
    "pycharm": {
     "name": "#%% md\n"
    }
   },
   "source": [
    "We use central scheme of gradient calculation:\n",
    "\n",
    "$$ \\text{gradient} = \\frac{| \\text{model}(\\text{input} + \\delta) - \\text{model}(\\text{input} - \\delta) |}{2 \\delta}, $$\n",
    "where $\\delta$ is hyperparameter."
   ]
  },
  {
   "cell_type": "markdown",
   "metadata": {
    "pycharm": {
     "name": "#%% md\n"
    }
   },
   "source": [
    "Firstly, we try several deltas and find such $\\delta$ using which the correlation coefficient between gradients and attention scores is the highest."
   ]
  },
  {
   "cell_type": "code",
   "execution_count": 12,
   "metadata": {
    "pycharm": {
     "name": "#%%\n"
    },
    "scrolled": true
   },
   "outputs": [
    {
     "name": "stderr",
     "output_type": "stream",
     "text": [
      "  0%|          | 0/2 [00:00<?, ?it/s]"
     ]
    },
    {
     "name": "stdout",
     "output_type": "stream",
     "text": [
      "1e-08\n"
     ]
    },
    {
     "name": "stderr",
     "output_type": "stream",
     "text": [
      " 50%|█████     | 1/2 [00:43<00:43, 43.17s/it]"
     ]
    },
    {
     "name": "stdout",
     "output_type": "stream",
     "text": [
      "-0.012534822561422321 ± 0.03155338276595359 \n",
      "\n",
      "10\n"
     ]
    },
    {
     "name": "stderr",
     "output_type": "stream",
     "text": [
      "100%|██████████| 2/2 [01:27<00:00, 43.86s/it]"
     ]
    },
    {
     "name": "stdout",
     "output_type": "stream",
     "text": [
      "0.5626769490133492 ± 0.2483639183775072 \n",
      "\n"
     ]
    },
    {
     "name": "stderr",
     "output_type": "stream",
     "text": [
      "\n"
     ]
    }
   ],
   "source": [
    "corrs_siamese, corrs_triplet = [], []\n",
    "\n",
    "for DELTA in tqdm([1e-8, 10]):\n",
    "    print(DELTA)\n",
    "    corr_coefs_siamese, corr_coefs_triplet = [], []\n",
    "    for slice_1, _, _, well in val_dataloader:\n",
    "        slice_1_plus, slice_1_minus = utils_attn.get_inputs_for_calc_grad(slice_1, DELTA)\n",
    "     \n",
    "        gr_1_siamese = utils_attn.get_gradients(slice_1_plus, slice_1_minus, siamese_tr, DELTA, agg=True)\n",
    "        a_1_siamese = utils_attn.get_attention_scores(slice_1, siamese_tr)\n",
    "\n",
    "        corr_coefs_siamese.append(\n",
    "            utils_attn.calc_corr(gr_1_siamese, a_1_siamese)\n",
    "        )\n",
    "        \n",
    "    print(np.array(corr_coefs_siamese).mean(), '±', np.array(corr_coefs_siamese).std(), '\\n')\n",
    "    corrs_siamese.append((DELTA, np.array(corr_coefs_siamese).mean()))"
   ]
  },
  {
   "cell_type": "markdown",
   "metadata": {
    "pycharm": {
     "name": "#%% md\n"
    }
   },
   "source": [
    "The first tuple in output below consists of delta (which is used in the following experiment) and the highest correlation coefficient."
   ]
  },
  {
   "cell_type": "code",
   "execution_count": 13,
   "metadata": {
    "pycharm": {
     "name": "#%%\n"
    }
   },
   "outputs": [
    {
     "data": {
      "text/plain": [
       "[(10, 0.5626769490133492), (1e-08, -0.012534822561422321)]"
      ]
     },
     "execution_count": 13,
     "metadata": {},
     "output_type": "execute_result"
    }
   ],
   "source": [
    "corrs_siamese_sorted = sorted(corrs_siamese, key=lambda item: item[1], reverse=True)\n",
    "corrs_siamese_sorted"
   ]
  },
  {
   "cell_type": "markdown",
   "metadata": {
    "pycharm": {
     "name": "#%% md\n"
    }
   },
   "source": [
    "# Eliminating `p` % of interval with the biggest attention (gradient)"
   ]
  },
  {
   "cell_type": "code",
   "execution_count": 14,
   "metadata": {
    "pycharm": {
     "name": "#%%\n"
    },
    "scrolled": true
   },
   "outputs": [
    {
     "name": "stderr",
     "output_type": "stream",
     "text": [
      "100%|██████████| 8/8 [10:31<00:00, 78.92s/it]\n",
      "100%|██████████| 8/8 [11:29<00:00, 86.21s/it]\n"
     ]
    }
   ],
   "source": [
    "DELTA = corrs_siamese_sorted[0][0]\n",
    "delta_sim_score, accuracies = [], []\n",
    "\n",
    "drop_0_attn, drop_rand_attn = [], []\n",
    "drop_0_grad, drop_rand_grad = [], []\n",
    "\n",
    "# P = [i * 10 for i in range(1, 10)]\n",
    "P = [i * 10 for i in range(1, 3)]\n",
    "\n",
    "for p in P:\n",
    "    for slice_1, positive, negative, well in tqdm(val_dataloader):\n",
    "        slice_1_g_0, slice_1_a_0, slice_1_r_0 = utils_attn.change_interval_part_with_highest_score(\n",
    "            slice_1,\n",
    "            siamese_tr,\n",
    "            DELTA,\n",
    "            fill_with='zeros',\n",
    "            p=p / 100,\n",
    "            add_baseline=True\n",
    "        ) \n",
    "        slice_1_g_r, slice_1_a_r, slice_1_r_r = utils_attn.change_interval_part_with_highest_score(\n",
    "            slice_1,\n",
    "            siamese_tr,\n",
    "            DELTA,\n",
    "            fill_with='rand',\n",
    "            p=p / 100,\n",
    "            add_baseline=True\n",
    "        )\n",
    "        for slice_2, target in zip(\n",
    "            [positive, negative],\n",
    "            [torch.ones(slice_1.shape[0]), torch.zeros(slice_1.shape[0])]\n",
    "        ):\n",
    "            slice_2_g_0, slice_2_a_0, slice_2_r_0 = utils_attn.change_interval_part_with_highest_score(\n",
    "                slice_2, \n",
    "                siamese_tr,\n",
    "                DELTA,\n",
    "                fill_with='zeros',\n",
    "                p=p / 100,\n",
    "                add_baseline=True\n",
    "            ) \n",
    "            slice_2_g_r, slice_2_a_r, slice_2_r_r = utils_attn.change_interval_part_with_highest_score(\n",
    "                slice_2, \n",
    "                siamese_tr,\n",
    "                DELTA,\n",
    "                fill_with='rand',\n",
    "                p=p / 100,\n",
    "                add_baseline=True\n",
    "            )\n",
    "\n",
    "            delta_sim_score.extend(\n",
    "                [\n",
    "                    (\n",
    "                        p,\n",
    "                        'random_0',\n",
    "                        torch.abs(siamese_tr((slice_1, slice_2)) - siamese_tr((slice_1_r_0, slice_2_r_0))).detach().cpu().numpy().reshape(-1).mean()\n",
    "                    ),\n",
    "                    (\n",
    "                        p,\n",
    "                        'random_rand',\n",
    "                        torch.abs(siamese_tr((slice_1, slice_2)) - siamese_tr((slice_1_r_r, slice_2_r_r))).detach().cpu().numpy().reshape(-1).mean()\n",
    "                    ),\n",
    "                    (\n",
    "                        p,\n",
    "                        'gradient_0',\n",
    "                        torch.abs(siamese_tr((slice_1, slice_2)) - siamese_tr((slice_1_g_0, slice_2_g_0))).detach().cpu().numpy().reshape(-1).mean()\n",
    "                    ),\n",
    "                    (\n",
    "                        p,\n",
    "                        'gradient_rand',\n",
    "                        torch.abs(siamese_tr((slice_1, slice_2)) - siamese_tr((slice_1_g_r, slice_2_g_r))).detach().cpu().numpy().reshape(-1).mean()\n",
    "                    ),\n",
    "                    (\n",
    "                        p,\n",
    "                        'attention_0',\n",
    "                        torch.abs(siamese_tr((slice_1, slice_2)) - siamese_tr((slice_1_a_0, slice_2_a_0))).detach().cpu().numpy().reshape(-1).mean()\n",
    "                    ),\n",
    "                    (\n",
    "                        p,\n",
    "                        'attention_rand',\n",
    "                        torch.abs(siamese_tr((slice_1, slice_2)) - siamese_tr((slice_1_a_r, slice_2_a_r))).detach().cpu().numpy().reshape(-1).mean()\n",
    "                    )\n",
    "                ]\n",
    "            )\n",
    "\n",
    "            accuracies.extend(\n",
    "                [\n",
    "                    (\n",
    "                        p,\n",
    "                        'random_0',\n",
    "                        utils_attn.get_acc(slice_1, slice_2, siamese_tr, target),\n",
    "                        utils_attn.get_acc(slice_1_r_0, slice_2_r_0, siamese_tr, target)\n",
    "                    ),\n",
    "                    (\n",
    "                        p,\n",
    "                        'random_rand',\n",
    "                        utils_attn.get_acc(slice_1, slice_2, siamese_tr, target),\n",
    "                        utils_attn.get_acc(slice_1_r_r, slice_2_r_r, siamese_tr, target)\n",
    "                    ),\n",
    "                    (\n",
    "                        p,\n",
    "                        'gradient_0',\n",
    "                        utils_attn.get_acc(slice_1, slice_2, siamese_tr, target),\n",
    "                        utils_attn.get_acc(slice_1_g_0, slice_2_g_0, siamese_tr, target)\n",
    "                    ),\n",
    "                    (\n",
    "                        p,\n",
    "                        'gradient_rand',\n",
    "                        utils_attn.get_acc(slice_1, slice_2, siamese_tr, target),\n",
    "                        utils_attn.get_acc(slice_1_g_r, slice_2_g_r, siamese_tr, target)\n",
    "                    ),\n",
    "                    (\n",
    "                        p,\n",
    "                        'attention_0',\n",
    "                        utils_attn.get_acc(slice_1, slice_2, siamese_tr, target),\n",
    "                        utils_attn.get_acc(slice_1_a_0, slice_2_a_0, siamese_tr, target)\n",
    "                    ),\n",
    "                    (\n",
    "                        p,\n",
    "                        'attention_rand',\n",
    "                        utils_attn.get_acc(slice_1, slice_2, siamese_tr, target),\n",
    "                        utils_attn.get_acc(slice_1_a_r, slice_2_a_r, siamese_tr, target)\n",
    "                    )\n",
    "                ]\n",
    "            )"
   ]
  },
  {
   "cell_type": "markdown",
   "metadata": {
    "pycharm": {
     "name": "#%% md\n"
    }
   },
   "source": [
    "## Results aggregation"
   ]
  },
  {
   "cell_type": "code",
   "execution_count": 15,
   "metadata": {
    "pycharm": {
     "name": "#%%\n"
    }
   },
   "outputs": [
    {
     "data": {
      "text/html": [
       "<div>\n",
       "<style scoped>\n",
       "    .dataframe tbody tr th:only-of-type {\n",
       "        vertical-align: middle;\n",
       "    }\n",
       "\n",
       "    .dataframe tbody tr th {\n",
       "        vertical-align: top;\n",
       "    }\n",
       "\n",
       "    .dataframe thead th {\n",
       "        text-align: right;\n",
       "    }\n",
       "</style>\n",
       "<table border=\"1\" class=\"dataframe\">\n",
       "  <thead>\n",
       "    <tr style=\"text-align: right;\">\n",
       "      <th></th>\n",
       "      <th>p</th>\n",
       "      <th>type</th>\n",
       "      <th>initial_accuracy</th>\n",
       "      <th>accuracy</th>\n",
       "    </tr>\n",
       "  </thead>\n",
       "  <tbody>\n",
       "    <tr>\n",
       "      <th>0</th>\n",
       "      <td>10</td>\n",
       "      <td>random_0</td>\n",
       "      <td>0.0</td>\n",
       "      <td>0.0</td>\n",
       "    </tr>\n",
       "    <tr>\n",
       "      <th>1</th>\n",
       "      <td>10</td>\n",
       "      <td>random_rand</td>\n",
       "      <td>0.0</td>\n",
       "      <td>0.0</td>\n",
       "    </tr>\n",
       "    <tr>\n",
       "      <th>2</th>\n",
       "      <td>10</td>\n",
       "      <td>gradient_0</td>\n",
       "      <td>0.0</td>\n",
       "      <td>0.0</td>\n",
       "    </tr>\n",
       "    <tr>\n",
       "      <th>3</th>\n",
       "      <td>10</td>\n",
       "      <td>gradient_rand</td>\n",
       "      <td>0.0</td>\n",
       "      <td>0.0</td>\n",
       "    </tr>\n",
       "    <tr>\n",
       "      <th>4</th>\n",
       "      <td>10</td>\n",
       "      <td>attention_0</td>\n",
       "      <td>0.0</td>\n",
       "      <td>0.0</td>\n",
       "    </tr>\n",
       "    <tr>\n",
       "      <th>...</th>\n",
       "      <td>...</td>\n",
       "      <td>...</td>\n",
       "      <td>...</td>\n",
       "      <td>...</td>\n",
       "    </tr>\n",
       "    <tr>\n",
       "      <th>187</th>\n",
       "      <td>20</td>\n",
       "      <td>random_rand</td>\n",
       "      <td>1.0</td>\n",
       "      <td>1.0</td>\n",
       "    </tr>\n",
       "    <tr>\n",
       "      <th>188</th>\n",
       "      <td>20</td>\n",
       "      <td>gradient_0</td>\n",
       "      <td>1.0</td>\n",
       "      <td>1.0</td>\n",
       "    </tr>\n",
       "    <tr>\n",
       "      <th>189</th>\n",
       "      <td>20</td>\n",
       "      <td>gradient_rand</td>\n",
       "      <td>1.0</td>\n",
       "      <td>1.0</td>\n",
       "    </tr>\n",
       "    <tr>\n",
       "      <th>190</th>\n",
       "      <td>20</td>\n",
       "      <td>attention_0</td>\n",
       "      <td>1.0</td>\n",
       "      <td>1.0</td>\n",
       "    </tr>\n",
       "    <tr>\n",
       "      <th>191</th>\n",
       "      <td>20</td>\n",
       "      <td>attention_rand</td>\n",
       "      <td>1.0</td>\n",
       "      <td>1.0</td>\n",
       "    </tr>\n",
       "  </tbody>\n",
       "</table>\n",
       "<p>192 rows × 4 columns</p>\n",
       "</div>"
      ],
      "text/plain": [
       "      p            type  initial_accuracy  accuracy\n",
       "0    10        random_0               0.0       0.0\n",
       "1    10     random_rand               0.0       0.0\n",
       "2    10      gradient_0               0.0       0.0\n",
       "3    10   gradient_rand               0.0       0.0\n",
       "4    10     attention_0               0.0       0.0\n",
       "..   ..             ...               ...       ...\n",
       "187  20     random_rand               1.0       1.0\n",
       "188  20      gradient_0               1.0       1.0\n",
       "189  20   gradient_rand               1.0       1.0\n",
       "190  20     attention_0               1.0       1.0\n",
       "191  20  attention_rand               1.0       1.0\n",
       "\n",
       "[192 rows x 4 columns]"
      ]
     },
     "execution_count": 15,
     "metadata": {},
     "output_type": "execute_result"
    }
   ],
   "source": [
    "# p -- percent of eliminated elements in interval\n",
    "df = pd.DataFrame(accuracies, columns=['p', 'type', 'initial_accuracy', 'accuracy'])\n",
    "df"
   ]
  },
  {
   "cell_type": "code",
   "execution_count": 16,
   "metadata": {
    "pycharm": {
     "name": "#%%\n"
    },
    "scrolled": true
   },
   "outputs": [
    {
     "data": {
      "text/html": [
       "<div>\n",
       "<style scoped>\n",
       "    .dataframe tbody tr th:only-of-type {\n",
       "        vertical-align: middle;\n",
       "    }\n",
       "\n",
       "    .dataframe tbody tr th {\n",
       "        vertical-align: top;\n",
       "    }\n",
       "\n",
       "    .dataframe thead th {\n",
       "        text-align: right;\n",
       "    }\n",
       "</style>\n",
       "<table border=\"1\" class=\"dataframe\">\n",
       "  <thead>\n",
       "    <tr style=\"text-align: right;\">\n",
       "      <th></th>\n",
       "      <th>p</th>\n",
       "      <th>t</th>\n",
       "      <th>initial_acc</th>\n",
       "      <th>acc</th>\n",
       "    </tr>\n",
       "  </thead>\n",
       "  <tbody>\n",
       "    <tr>\n",
       "      <th>0</th>\n",
       "      <td>10</td>\n",
       "      <td>random_0</td>\n",
       "      <td>0.5</td>\n",
       "      <td>0.5</td>\n",
       "    </tr>\n",
       "    <tr>\n",
       "      <th>1</th>\n",
       "      <td>10</td>\n",
       "      <td>random_rand</td>\n",
       "      <td>0.5</td>\n",
       "      <td>0.5</td>\n",
       "    </tr>\n",
       "    <tr>\n",
       "      <th>2</th>\n",
       "      <td>10</td>\n",
       "      <td>gradient_0</td>\n",
       "      <td>0.5</td>\n",
       "      <td>0.5</td>\n",
       "    </tr>\n",
       "    <tr>\n",
       "      <th>3</th>\n",
       "      <td>10</td>\n",
       "      <td>gradient_rand</td>\n",
       "      <td>0.5</td>\n",
       "      <td>0.5</td>\n",
       "    </tr>\n",
       "    <tr>\n",
       "      <th>4</th>\n",
       "      <td>10</td>\n",
       "      <td>attention_0</td>\n",
       "      <td>0.5</td>\n",
       "      <td>0.5</td>\n",
       "    </tr>\n",
       "    <tr>\n",
       "      <th>5</th>\n",
       "      <td>10</td>\n",
       "      <td>attention_rand</td>\n",
       "      <td>0.5</td>\n",
       "      <td>0.5</td>\n",
       "    </tr>\n",
       "    <tr>\n",
       "      <th>6</th>\n",
       "      <td>20</td>\n",
       "      <td>random_0</td>\n",
       "      <td>0.5</td>\n",
       "      <td>0.5</td>\n",
       "    </tr>\n",
       "    <tr>\n",
       "      <th>7</th>\n",
       "      <td>20</td>\n",
       "      <td>random_rand</td>\n",
       "      <td>0.5</td>\n",
       "      <td>0.5</td>\n",
       "    </tr>\n",
       "    <tr>\n",
       "      <th>8</th>\n",
       "      <td>20</td>\n",
       "      <td>gradient_0</td>\n",
       "      <td>0.5</td>\n",
       "      <td>0.5</td>\n",
       "    </tr>\n",
       "    <tr>\n",
       "      <th>9</th>\n",
       "      <td>20</td>\n",
       "      <td>gradient_rand</td>\n",
       "      <td>0.5</td>\n",
       "      <td>0.5</td>\n",
       "    </tr>\n",
       "    <tr>\n",
       "      <th>10</th>\n",
       "      <td>20</td>\n",
       "      <td>attention_0</td>\n",
       "      <td>0.5</td>\n",
       "      <td>0.5</td>\n",
       "    </tr>\n",
       "    <tr>\n",
       "      <th>11</th>\n",
       "      <td>20</td>\n",
       "      <td>attention_rand</td>\n",
       "      <td>0.5</td>\n",
       "      <td>0.5</td>\n",
       "    </tr>\n",
       "  </tbody>\n",
       "</table>\n",
       "</div>"
      ],
      "text/plain": [
       "     p               t  initial_acc  acc\n",
       "0   10        random_0          0.5  0.5\n",
       "1   10     random_rand          0.5  0.5\n",
       "2   10      gradient_0          0.5  0.5\n",
       "3   10   gradient_rand          0.5  0.5\n",
       "4   10     attention_0          0.5  0.5\n",
       "5   10  attention_rand          0.5  0.5\n",
       "6   20        random_0          0.5  0.5\n",
       "7   20     random_rand          0.5  0.5\n",
       "8   20      gradient_0          0.5  0.5\n",
       "9   20   gradient_rand          0.5  0.5\n",
       "10  20     attention_0          0.5  0.5\n",
       "11  20  attention_rand          0.5  0.5"
      ]
     },
     "execution_count": 16,
     "metadata": {},
     "output_type": "execute_result"
    }
   ],
   "source": [
    "ans = []\n",
    "\n",
    "for p in df['p'].unique():\n",
    "    for t in df['type'].unique():\n",
    "        df1 = df[(df['p'] == p) & (df['type'] == t)]\n",
    "        \n",
    "        ans.append(\n",
    "            {\n",
    "                'p': p,\n",
    "                't': t,\n",
    "                'initial_acc': df1['initial_accuracy'].mean(),\n",
    "                'acc': df1['accuracy'].mean()\n",
    "            }\n",
    "        )\n",
    "ans_df = pd.DataFrame(ans)\n",
    "ans_df"
   ]
  },
  {
   "cell_type": "markdown",
   "metadata": {
    "pycharm": {
     "name": "#%% md\n"
    }
   },
   "source": [
    "## Results visualization"
   ]
  },
  {
   "cell_type": "code",
   "execution_count": 17,
   "metadata": {
    "pycharm": {
     "name": "#%%\n"
    }
   },
   "outputs": [
    {
     "name": "stderr",
     "output_type": "stream",
     "text": [
      "6it [00:00, 156.16it/s]\n"
     ]
    },
    {
     "data": {
      "image/png": "[encoded data removed]",
      "text/plain": [
       "<Figure size 1152x576 with 1 Axes>"
      ]
     },
     "metadata": {
      "needs_background": "light"
     },
     "output_type": "display_data"
    }
   ],
   "source": [
    "markers = ['o', 'x', '^', 'D', 'v', 's']\n",
    "\n",
    "plt.figure(figsize=(16, 8))\n",
    "\n",
    "for i, t in tqdm(enumerate(ans_df['t'].unique())):\n",
    "    df1 = ans_df[ans_df['t'] == t]\n",
    "    \n",
    "    drop_type = t.split('_')\n",
    "    if drop_type[1] == 'rand':\n",
    "        drop_type[1] = 'random'\n",
    "        \n",
    "    drop_type[0] = drop_type[0][0].upper() + drop_type[0][1:]\n",
    "    \n",
    "    if i == 0:\n",
    "        plt.plot(\n",
    "            df1['p'].values, \n",
    "            df1['initial_acc'].values, \n",
    "            label='Initial score'\n",
    "        )\n",
    "    \n",
    "    plt.plot(\n",
    "        df1['p'].values, \n",
    "        df1['acc'].values, \n",
    "        label='{} -> {}'.format(drop_type[0], drop_type[1]), \n",
    "        marker=markers[i]\n",
    "    )\n",
    "    \n",
    "plt.legend(loc='lower left');\n",
    "plt.xlabel('Percent of eliminated elements in interval');\n",
    "plt.ylabel('Accuracy score');"
   ]
  },
  {
   "cell_type": "code",
   "execution_count": null,
   "metadata": {
    "pycharm": {
     "name": "#%%\n"
    }
   },
   "outputs": [],
   "source": []
  },
  {
   "cell_type": "code",
   "execution_count": null,
   "metadata": {
    "pycharm": {
     "name": "#%%\n"
    }
   },
   "outputs": [],
   "source": []
  },
  {
   "cell_type": "code",
   "execution_count": null,
   "metadata": {
    "pycharm": {
     "name": "#%%\n"
    }
   },
   "outputs": [],
   "source": []
  },
  {
   "cell_type": "code",
   "execution_count": null,
   "metadata": {
    "pycharm": {
     "name": "#%%\n"
    }
   },
   "outputs": [],
   "source": []
  },
  {
   "cell_type": "code",
   "execution_count": null,
   "metadata": {
    "pycharm": {
     "name": "#%%\n"
    }
   },
   "outputs": [],
   "source": []
  },
  {
   "cell_type": "code",
   "execution_count": null,
   "metadata": {
    "pycharm": {
     "name": "#%%\n"
    }
   },
   "outputs": [],
   "source": []
  }
 ],
 "metadata": {
  "colab": {
   "collapsed_sections": [],
   "name": "close_well_linking_urenui_clean.ipynb",
   "provenance": []
  },
  "kernelspec": {
   "display_name": "Python 3",
   "language": "python",
   "name": "python3"
  },
  "language_info": {
   "codemirror_mode": {
    "name": "ipython",
    "version": 3
   },
   "file_extension": ".py",
   "mimetype": "text/x-python",
   "name": "python",
   "nbconvert_exporter": "python",
   "pygments_lexer": "ipython3",
   "version": "3.7.7"
  },
  "widgets": {
   "application/vnd.jupyter.widget-state+json": {
    "2c727516e38443958449c1663e89efaa": {
     "model_module": "@jupyter-widgets/base",
     "model_module_version": "1.2.0",
     "model_name": "LayoutModel",
     "state": {
      "_model_module": "@jupyter-widgets/base",
      "_model_module_version": "1.2.0",
      "_model_name": "LayoutModel",
      "_view_count": null,
      "_view_module": "@jupyter-widgets/base",
      "_view_module_version": "1.2.0",
      "_view_name": "LayoutView",
      "align_content": null,
      "align_items": null,
      "align_self": null,
      "border": null,
      "bottom": null,
      "display": null,
      "flex": "2",
      "flex_flow": null,
      "grid_area": null,
      "grid_auto_columns": null,
      "grid_auto_flow": null,
      "grid_auto_rows": null,
      "grid_column": null,
      "grid_gap": null,
      "grid_row": null,
      "grid_template_areas": null,
      "grid_template_columns": null,
      "grid_template_rows": null,
      "height": null,
      "justify_content": null,
      "justify_items": null,
      "left": null,
      "margin": null,
      "max_height": null,
      "max_width": null,
      "min_height": null,
      "min_width": null,
      "object_fit": null,
      "object_position": null,
      "order": null,
      "overflow": null,
      "overflow_x": null,
      "overflow_y": null,
      "padding": null,
      "right": null,
      "top": null,
      "visibility": null,
      "width": null
     }
    },
    "311fda8495c44bb5b8b919891a1c9327": {
     "model_module": "@jupyter-widgets/base",
     "model_module_version": "1.2.0",
     "model_name": "LayoutModel",
     "state": {
      "_model_module": "@jupyter-widgets/base",
      "_model_module_version": "1.2.0",
      "_model_name": "LayoutModel",
      "_view_count": null,
      "_view_module": "@jupyter-widgets/base",
      "_view_module_version": "1.2.0",
      "_view_name": "LayoutView",
      "align_content": null,
      "align_items": null,
      "align_self": null,
      "border": null,
      "bottom": null,
      "display": null,
      "flex": null,
      "flex_flow": null,
      "grid_area": null,
      "grid_auto_columns": null,
      "grid_auto_flow": null,
      "grid_auto_rows": null,
      "grid_column": null,
      "grid_gap": null,
      "grid_row": null,
      "grid_template_areas": null,
      "grid_template_columns": null,
      "grid_template_rows": null,
      "height": null,
      "justify_content": null,
      "justify_items": null,
      "left": null,
      "margin": null,
      "max_height": null,
      "max_width": null,
      "min_height": null,
      "min_width": null,
      "object_fit": null,
      "object_position": null,
      "order": null,
      "overflow": null,
      "overflow_x": null,
      "overflow_y": null,
      "padding": null,
      "right": null,
      "top": null,
      "visibility": null,
      "width": null
     }
    },
    "32400cbbbd35421cb161ce2109dd2fe8": {
     "model_module": "@jupyter-widgets/base",
     "model_module_version": "1.2.0",
     "model_name": "LayoutModel",
     "state": {
      "_model_module": "@jupyter-widgets/base",
      "_model_module_version": "1.2.0",
      "_model_name": "LayoutModel",
      "_view_count": null,
      "_view_module": "@jupyter-widgets/base",
      "_view_module_version": "1.2.0",
      "_view_name": "LayoutView",
      "align_content": null,
      "align_items": null,
      "align_self": null,
      "border": null,
      "bottom": null,
      "display": null,
      "flex": null,
      "flex_flow": null,
      "grid_area": null,
      "grid_auto_columns": null,
      "grid_auto_flow": null,
      "grid_auto_rows": null,
      "grid_column": null,
      "grid_gap": null,
      "grid_row": null,
      "grid_template_areas": null,
      "grid_template_columns": null,
      "grid_template_rows": null,
      "height": null,
      "justify_content": null,
      "justify_items": null,
      "left": null,
      "margin": null,
      "max_height": null,
      "max_width": null,
      "min_height": null,
      "min_width": null,
      "object_fit": null,
      "object_position": null,
      "order": null,
      "overflow": null,
      "overflow_x": null,
      "overflow_y": null,
      "padding": null,
      "right": null,
      "top": null,
      "visibility": null,
      "width": null
     }
    },
    "32e0ff209c4b4f48bc2408459a9992ac": {
     "model_module": "@jupyter-widgets/base",
     "model_module_version": "1.2.0",
     "model_name": "LayoutModel",
     "state": {
      "_model_module": "@jupyter-widgets/base",
      "_model_module_version": "1.2.0",
      "_model_name": "LayoutModel",
      "_view_count": null,
      "_view_module": "@jupyter-widgets/base",
      "_view_module_version": "1.2.0",
      "_view_name": "LayoutView",
      "align_content": null,
      "align_items": null,
      "align_self": null,
      "border": null,
      "bottom": null,
      "display": "inline-flex",
      "flex": null,
      "flex_flow": "row wrap",
      "grid_area": null,
      "grid_auto_columns": null,
      "grid_auto_flow": null,
      "grid_auto_rows": null,
      "grid_column": null,
      "grid_gap": null,
      "grid_row": null,
      "grid_template_areas": null,
      "grid_template_columns": null,
      "grid_template_rows": null,
      "height": null,
      "justify_content": null,
      "justify_items": null,
      "left": null,
      "margin": null,
      "max_height": null,
      "max_width": null,
      "min_height": null,
      "min_width": null,
      "object_fit": null,
      "object_position": null,
      "order": null,
      "overflow": null,
      "overflow_x": null,
      "overflow_y": null,
      "padding": null,
      "right": null,
      "top": null,
      "visibility": null,
      "width": "100%"
     }
    },
    "584dfd0a873847948696eb55fff91a0a": {
     "model_module": "@jupyter-widgets/controls",
     "model_module_version": "1.5.0",
     "model_name": "FloatProgressModel",
     "state": {
      "_dom_classes": [],
      "_model_module": "@jupyter-widgets/controls",
      "_model_module_version": "1.5.0",
      "_model_name": "FloatProgressModel",
      "_view_count": null,
      "_view_module": "@jupyter-widgets/controls",
      "_view_module_version": "1.5.0",
      "_view_name": "ProgressView",
      "bar_style": "danger",
      "description": "",
      "description_tooltip": null,
      "layout": "IPY_MODEL_2c727516e38443958449c1663e89efaa",
      "max": 2,
      "min": 0,
      "orientation": "horizontal",
      "style": "IPY_MODEL_5e8c04ec5eec476496fe62a57f35eb27",
      "value": 0
     }
    },
    "5e8c04ec5eec476496fe62a57f35eb27": {
     "model_module": "@jupyter-widgets/controls",
     "model_module_version": "1.5.0",
     "model_name": "ProgressStyleModel",
     "state": {
      "_model_module": "@jupyter-widgets/controls",
      "_model_module_version": "1.5.0",
      "_model_name": "ProgressStyleModel",
      "_view_count": null,
      "_view_module": "@jupyter-widgets/base",
      "_view_module_version": "1.2.0",
      "_view_name": "StyleView",
      "bar_color": null,
      "description_width": ""
     }
    },
    "65c68c9fe7544a439d0035b12bf419c4": {
     "model_module": "@jupyter-widgets/controls",
     "model_module_version": "1.5.0",
     "model_name": "DescriptionStyleModel",
     "state": {
      "_model_module": "@jupyter-widgets/controls",
      "_model_module_version": "1.5.0",
      "_model_name": "DescriptionStyleModel",
      "_view_count": null,
      "_view_module": "@jupyter-widgets/base",
      "_view_module_version": "1.2.0",
      "_view_name": "StyleView",
      "description_width": ""
     }
    },
    "6d8c793fc44a46269db368171bc07d8d": {
     "model_module": "@jupyter-widgets/controls",
     "model_module_version": "1.5.0",
     "model_name": "DescriptionStyleModel",
     "state": {
      "_model_module": "@jupyter-widgets/controls",
      "_model_module_version": "1.5.0",
      "_model_name": "DescriptionStyleModel",
      "_view_count": null,
      "_view_module": "@jupyter-widgets/base",
      "_view_module_version": "1.2.0",
      "_view_name": "StyleView",
      "description_width": ""
     }
    },
    "9d3f8cd17be54263a1336e01f4a2b2e0": {
     "model_module": "@jupyter-widgets/controls",
     "model_module_version": "1.5.0",
     "model_name": "HBoxModel",
     "state": {
      "_dom_classes": [],
      "_model_module": "@jupyter-widgets/controls",
      "_model_module_version": "1.5.0",
      "_model_name": "HBoxModel",
      "_view_count": null,
      "_view_module": "@jupyter-widgets/controls",
      "_view_module_version": "1.5.0",
      "_view_name": "HBoxView",
      "box_style": "",
      "children": [
       "IPY_MODEL_d8ebceadb79f45428b149840d0dc5442",
       "IPY_MODEL_584dfd0a873847948696eb55fff91a0a",
       "IPY_MODEL_d4fa773bf9ed465db23b98d8e3eeac0d"
      ],
      "layout": "IPY_MODEL_32e0ff209c4b4f48bc2408459a9992ac"
     }
    },
    "d4fa773bf9ed465db23b98d8e3eeac0d": {
     "model_module": "@jupyter-widgets/controls",
     "model_module_version": "1.5.0",
     "model_name": "HTMLModel",
     "state": {
      "_dom_classes": [],
      "_model_module": "@jupyter-widgets/controls",
      "_model_module_version": "1.5.0",
      "_model_name": "HTMLModel",
      "_view_count": null,
      "_view_module": "@jupyter-widgets/controls",
      "_view_module_version": "1.5.0",
      "_view_name": "HTMLView",
      "description": "",
      "description_tooltip": null,
      "layout": "IPY_MODEL_311fda8495c44bb5b8b919891a1c9327",
      "placeholder": "​",
      "style": "IPY_MODEL_6d8c793fc44a46269db368171bc07d8d",
      "value": " 0/2 [00:01&lt;?, ?it/s]"
     }
    },
    "d8ebceadb79f45428b149840d0dc5442": {
     "model_module": "@jupyter-widgets/controls",
     "model_module_version": "1.5.0",
     "model_name": "HTMLModel",
     "state": {
      "_dom_classes": [],
      "_model_module": "@jupyter-widgets/controls",
      "_model_module_version": "1.5.0",
      "_model_name": "HTMLModel",
      "_view_count": null,
      "_view_module": "@jupyter-widgets/controls",
      "_view_module_version": "1.5.0",
      "_view_name": "HTMLView",
      "description": "",
      "description_tooltip": null,
      "layout": "IPY_MODEL_32400cbbbd35421cb161ce2109dd2fe8",
      "placeholder": "​",
      "style": "IPY_MODEL_65c68c9fe7544a439d0035b12bf419c4",
      "value": "Validation sanity check:   0%"
     }
    }
   }
  }
 },
 "nbformat": 4,
 "nbformat_minor": 5
}
