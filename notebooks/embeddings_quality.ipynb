{
 "cells": [
  {
   "cell_type": "code",
   "execution_count": 1,
   "metadata": {
    "pycharm": {
     "name": "#%%\n"
    },
    "scrolled": true
   },
   "outputs": [],
   "source": [
    "import json\n",
    "import os\n",
    "import warnings\n",
    "\n",
    "import matplotlib.pyplot as plt\n",
    "import numpy as np\n",
    "import pandas as pd\n",
    "import torch\n",
    "import torch.nn as nn\n",
    "from xgboost import XGBClassifier\n",
    "\n",
    "warnings.filterwarnings(\"ignore\")\n",
    "from sklearn.preprocessing import LabelEncoder\n",
    "\n",
    "from trans_oil_gas import utils_emb, utils_fix_seeds, utils_model, utils_dataset"
   ]
  },
  {
   "cell_type": "markdown",
   "metadata": {
    "pycharm": {
     "name": "#%% md\n"
    }
   },
   "source": [
    "Choose GPU device if it is available."
   ]
  },
  {
   "cell_type": "code",
   "execution_count": 2,
   "metadata": {
    "pycharm": {
     "name": "#%%\n"
    }
   },
   "outputs": [
    {
     "data": {
      "text/plain": [
       "(device(type='cuda'), [0])"
      ]
     },
     "execution_count": 2,
     "metadata": {},
     "output_type": "execute_result"
    }
   ],
   "source": [
    "device = torch.device('cuda' if torch.cuda.is_available() else 'cpu')\n",
    "gpu = [0] if 'cuda' in device.type else 0\n",
    "device, gpu"
   ]
  },
  {
   "cell_type": "markdown",
   "metadata": {
    "pycharm": {
     "name": "#%% md\n"
    }
   },
   "source": [
    "Fix all possible seeds for results reproducibility."
   ]
  },
  {
   "cell_type": "code",
   "execution_count": 3,
   "metadata": {
    "pycharm": {
     "name": "#%%\n"
    }
   },
   "outputs": [],
   "source": [
    "utils_fix_seeds.fix_seeds(device=device)"
   ]
  },
  {
   "cell_type": "markdown",
   "metadata": {
    "pycharm": {
     "name": "#%% md\n"
    }
   },
   "source": [
    "# Read data"
   ]
  },
  {
   "cell_type": "markdown",
   "metadata": {
    "pycharm": {
     "name": "#%% md\n"
    }
   },
   "source": [
    "Reading of already preprocessed data (here synthetic dataset with the same columns as in the original one is presented)."
   ]
  },
  {
   "cell_type": "code",
   "execution_count": 4,
   "metadata": {
    "pycharm": {
     "name": "#%%\n"
    }
   },
   "outputs": [
    {
     "data": {
      "text/html": [
       "<div>\n",
       "<style scoped>\n",
       "    .dataframe tbody tr th:only-of-type {\n",
       "        vertical-align: middle;\n",
       "    }\n",
       "\n",
       "    .dataframe tbody tr th {\n",
       "        vertical-align: top;\n",
       "    }\n",
       "\n",
       "    .dataframe thead th {\n",
       "        text-align: right;\n",
       "    }\n",
       "</style>\n",
       "<table border=\"1\" class=\"dataframe\">\n",
       "  <thead>\n",
       "    <tr style=\"text-align: right;\">\n",
       "      <th></th>\n",
       "      <th>DRHO</th>\n",
       "      <th>DENS</th>\n",
       "      <th>GR</th>\n",
       "      <th>DTC</th>\n",
       "      <th>WELLNAME</th>\n",
       "    </tr>\n",
       "  </thead>\n",
       "  <tbody>\n",
       "    <tr>\n",
       "      <th>0</th>\n",
       "      <td>0.01778</td>\n",
       "      <td>2.3794</td>\n",
       "      <td>1.214982</td>\n",
       "      <td>101.5516</td>\n",
       "      <td>26</td>\n",
       "    </tr>\n",
       "    <tr>\n",
       "      <th>1</th>\n",
       "      <td>0.01701</td>\n",
       "      <td>2.3705</td>\n",
       "      <td>1.086457</td>\n",
       "      <td>101.6722</td>\n",
       "      <td>26</td>\n",
       "    </tr>\n",
       "    <tr>\n",
       "      <th>2</th>\n",
       "      <td>0.01624</td>\n",
       "      <td>2.3615</td>\n",
       "      <td>0.957933</td>\n",
       "      <td>101.7928</td>\n",
       "      <td>26</td>\n",
       "    </tr>\n",
       "    <tr>\n",
       "      <th>3</th>\n",
       "      <td>0.01779</td>\n",
       "      <td>2.3593</td>\n",
       "      <td>0.493992</td>\n",
       "      <td>101.1051</td>\n",
       "      <td>26</td>\n",
       "    </tr>\n",
       "    <tr>\n",
       "      <th>4</th>\n",
       "      <td>0.02008</td>\n",
       "      <td>2.3591</td>\n",
       "      <td>-0.076734</td>\n",
       "      <td>100.1601</td>\n",
       "      <td>26</td>\n",
       "    </tr>\n",
       "    <tr>\n",
       "      <th>...</th>\n",
       "      <td>...</td>\n",
       "      <td>...</td>\n",
       "      <td>...</td>\n",
       "      <td>...</td>\n",
       "      <td>...</td>\n",
       "    </tr>\n",
       "    <tr>\n",
       "      <th>730</th>\n",
       "      <td>0.11269</td>\n",
       "      <td>2.6161</td>\n",
       "      <td>0.742381</td>\n",
       "      <td>92.0410</td>\n",
       "      <td>127</td>\n",
       "    </tr>\n",
       "    <tr>\n",
       "      <th>731</th>\n",
       "      <td>0.11269</td>\n",
       "      <td>2.6161</td>\n",
       "      <td>0.775581</td>\n",
       "      <td>92.1752</td>\n",
       "      <td>127</td>\n",
       "    </tr>\n",
       "    <tr>\n",
       "      <th>732</th>\n",
       "      <td>0.11269</td>\n",
       "      <td>2.6161</td>\n",
       "      <td>0.686798</td>\n",
       "      <td>91.6055</td>\n",
       "      <td>127</td>\n",
       "    </tr>\n",
       "    <tr>\n",
       "      <th>733</th>\n",
       "      <td>0.11269</td>\n",
       "      <td>2.6161</td>\n",
       "      <td>0.614402</td>\n",
       "      <td>91.7522</td>\n",
       "      <td>127</td>\n",
       "    </tr>\n",
       "    <tr>\n",
       "      <th>734</th>\n",
       "      <td>0.11269</td>\n",
       "      <td>2.6161</td>\n",
       "      <td>0.421493</td>\n",
       "      <td>91.9582</td>\n",
       "      <td>127</td>\n",
       "    </tr>\n",
       "  </tbody>\n",
       "</table>\n",
       "<p>735 rows × 5 columns</p>\n",
       "</div>"
      ],
      "text/plain": [
       "        DRHO    DENS        GR       DTC  WELLNAME\n",
       "0    0.01778  2.3794  1.214982  101.5516        26\n",
       "1    0.01701  2.3705  1.086457  101.6722        26\n",
       "2    0.01624  2.3615  0.957933  101.7928        26\n",
       "3    0.01779  2.3593  0.493992  101.1051        26\n",
       "4    0.02008  2.3591 -0.076734  100.1601        26\n",
       "..       ...     ...       ...       ...       ...\n",
       "730  0.11269  2.6161  0.742381   92.0410       127\n",
       "731  0.11269  2.6161  0.775581   92.1752       127\n",
       "732  0.11269  2.6161  0.686798   91.6055       127\n",
       "733  0.11269  2.6161  0.614402   91.7522       127\n",
       "734  0.11269  2.6161  0.421493   91.9582       127\n",
       "\n",
       "[735 rows x 5 columns]"
      ]
     },
     "execution_count": 4,
     "metadata": {},
     "output_type": "execute_result"
    }
   ],
   "source": [
    "df = pd.read_csv('../data/synthetic_well_log_data.csv')\n",
    "df"
   ]
  },
  {
   "cell_type": "markdown",
   "metadata": {
    "pycharm": {
     "name": "#%% md\n"
    }
   },
   "source": [
    "# Load models"
   ]
  },
  {
   "cell_type": "code",
   "execution_count": 5,
   "metadata": {
    "pycharm": {
     "name": "#%%\n"
    }
   },
   "outputs": [],
   "source": [
    "results_len = 70\n",
    "slice_len = 100\n",
    "input_size = 4"
   ]
  },
  {
   "cell_type": "code",
   "execution_count": 6,
   "metadata": {
    "pycharm": {
     "name": "#%%\n"
    }
   },
   "outputs": [],
   "source": [
    "CONFIG = {\n",
    "    \"siamese_rnn\": {\n",
    "        \"input_size\": 4,\n",
    "        \"output_size\": 1,\n",
    "        \"hidden_size\": 16,\n",
    "        \"dropout_prob\": 0.25,\n",
    "    },\n",
    "    \"triplet_rnn\": {\n",
    "        \"input_size\": 4,\n",
    "        \"embedding_size\": 64,\n",
    "    },\n",
    "}"
   ]
  },
  {
   "cell_type": "code",
   "execution_count": 7,
   "metadata": {
    "pycharm": {
     "name": "#%%\n"
    },
    "scrolled": true
   },
   "outputs": [
    {
     "data": {
      "text/plain": [
       "SiameseArchitecture(\n",
       "  (positional_encoding): PositionalEncoding()\n",
       "  (encoder): TransformerEncoder(\n",
       "    (layers): ModuleList(\n",
       "      (0): EncoderBlock(\n",
       "        (self_attn): MultiheadAttention(\n",
       "          (qkv_proj): Linear(in_features=4, out_features=12, bias=True)\n",
       "          (o_proj): Linear(in_features=4, out_features=4, bias=True)\n",
       "        )\n",
       "        (linear_net): Sequential(\n",
       "          (0): Linear(in_features=4, out_features=2048, bias=True)\n",
       "          (1): Dropout(p=0.48276561038285704, inplace=False)\n",
       "          (2): ReLU(inplace=True)\n",
       "          (3): Linear(in_features=2048, out_features=4, bias=True)\n",
       "        )\n",
       "        (norm1): LayerNorm((4,), eps=1e-05, elementwise_affine=True)\n",
       "        (norm2): LayerNorm((4,), eps=1e-05, elementwise_affine=True)\n",
       "        (dropout): Dropout(p=0.48276561038285704, inplace=False)\n",
       "      )\n",
       "      (1): EncoderBlock(\n",
       "        (self_attn): MultiheadAttention(\n",
       "          (qkv_proj): Linear(in_features=4, out_features=12, bias=True)\n",
       "          (o_proj): Linear(in_features=4, out_features=4, bias=True)\n",
       "        )\n",
       "        (linear_net): Sequential(\n",
       "          (0): Linear(in_features=4, out_features=2048, bias=True)\n",
       "          (1): Dropout(p=0.48276561038285704, inplace=False)\n",
       "          (2): ReLU(inplace=True)\n",
       "          (3): Linear(in_features=2048, out_features=4, bias=True)\n",
       "        )\n",
       "        (norm1): LayerNorm((4,), eps=1e-05, elementwise_affine=True)\n",
       "        (norm2): LayerNorm((4,), eps=1e-05, elementwise_affine=True)\n",
       "        (dropout): Dropout(p=0.48276561038285704, inplace=False)\n",
       "      )\n",
       "      (2): EncoderBlock(\n",
       "        (self_attn): MultiheadAttention(\n",
       "          (qkv_proj): Linear(in_features=4, out_features=12, bias=True)\n",
       "          (o_proj): Linear(in_features=4, out_features=4, bias=True)\n",
       "        )\n",
       "        (linear_net): Sequential(\n",
       "          (0): Linear(in_features=4, out_features=2048, bias=True)\n",
       "          (1): Dropout(p=0.48276561038285704, inplace=False)\n",
       "          (2): ReLU(inplace=True)\n",
       "          (3): Linear(in_features=2048, out_features=4, bias=True)\n",
       "        )\n",
       "        (norm1): LayerNorm((4,), eps=1e-05, elementwise_affine=True)\n",
       "        (norm2): LayerNorm((4,), eps=1e-05, elementwise_affine=True)\n",
       "        (dropout): Dropout(p=0.48276561038285704, inplace=False)\n",
       "      )\n",
       "      (3): EncoderBlock(\n",
       "        (self_attn): MultiheadAttention(\n",
       "          (qkv_proj): Linear(in_features=4, out_features=12, bias=True)\n",
       "          (o_proj): Linear(in_features=4, out_features=4, bias=True)\n",
       "        )\n",
       "        (linear_net): Sequential(\n",
       "          (0): Linear(in_features=4, out_features=2048, bias=True)\n",
       "          (1): Dropout(p=0.48276561038285704, inplace=False)\n",
       "          (2): ReLU(inplace=True)\n",
       "          (3): Linear(in_features=2048, out_features=4, bias=True)\n",
       "        )\n",
       "        (norm1): LayerNorm((4,), eps=1e-05, elementwise_affine=True)\n",
       "        (norm2): LayerNorm((4,), eps=1e-05, elementwise_affine=True)\n",
       "        (dropout): Dropout(p=0.48276561038285704, inplace=False)\n",
       "      )\n",
       "      (4): EncoderBlock(\n",
       "        (self_attn): MultiheadAttention(\n",
       "          (qkv_proj): Linear(in_features=4, out_features=12, bias=True)\n",
       "          (o_proj): Linear(in_features=4, out_features=4, bias=True)\n",
       "        )\n",
       "        (linear_net): Sequential(\n",
       "          (0): Linear(in_features=4, out_features=2048, bias=True)\n",
       "          (1): Dropout(p=0.48276561038285704, inplace=False)\n",
       "          (2): ReLU(inplace=True)\n",
       "          (3): Linear(in_features=2048, out_features=4, bias=True)\n",
       "        )\n",
       "        (norm1): LayerNorm((4,), eps=1e-05, elementwise_affine=True)\n",
       "        (norm2): LayerNorm((4,), eps=1e-05, elementwise_affine=True)\n",
       "        (dropout): Dropout(p=0.48276561038285704, inplace=False)\n",
       "      )\n",
       "    )\n",
       "  )\n",
       "  (embed_layer): Sequential(\n",
       "    (0): Flatten(start_dim=1, end_dim=-1)\n",
       "    (1): Linear(in_features=400, out_features=128, bias=True)\n",
       "  )\n",
       "  (fc): Sequential(\n",
       "    (0): Linear(in_features=256, out_features=128, bias=True)\n",
       "    (1): ReLU()\n",
       "    (2): Dropout(p=0.48276561038285704, inplace=False)\n",
       "    (3): Linear(in_features=128, out_features=128, bias=True)\n",
       "    (4): ReLU()\n",
       "    (5): Dropout(p=0.48276561038285704, inplace=False)\n",
       "    (6): Linear(in_features=128, out_features=1, bias=True)\n",
       "  )\n",
       "  (tfm): Sigmoid()\n",
       ")"
      ]
     },
     "execution_count": 7,
     "metadata": {},
     "output_type": "execute_result"
    }
   ],
   "source": [
    "fixed_params_tr = {\n",
    "    \"d_model\": 4,\n",
    "}\n",
    "with open(os.path.join(\"./saves/\", \"best_params_siamese_transformer.json\"), \"r\") as f:\n",
    "    best_params_tr_s = json.load(f)\n",
    "best_params_tr_s[\"fc_hidden_size\"] = best_params_tr_s[\"hidden_size\"]\n",
    "\n",
    "transformer_siamese = utils_model.SiameseArchitecture(encoder_type=\"transformer\", **fixed_params_tr, **best_params_tr_s).float()\n",
    "PATH = \"./saves/best_siamese_transformer.pth\"\n",
    "transformer_siamese.load_state_dict(torch.load(PATH, map_location=device))\n",
    "transformer_siamese.eval()"
   ]
  },
  {
   "cell_type": "code",
   "execution_count": 8,
   "metadata": {
    "pycharm": {
     "name": "#%%\n"
    },
    "scrolled": true
   },
   "outputs": [
    {
     "data": {
      "text/plain": [
       "TripletArchitecture(\n",
       "  (positional_encoding): PositionalEncoding()\n",
       "  (encoder): TransformerEncoder(\n",
       "    (layers): ModuleList(\n",
       "      (0): EncoderBlock(\n",
       "        (self_attn): MultiheadAttention(\n",
       "          (qkv_proj): Linear(in_features=4, out_features=12, bias=True)\n",
       "          (o_proj): Linear(in_features=4, out_features=4, bias=True)\n",
       "        )\n",
       "        (linear_net): Sequential(\n",
       "          (0): Linear(in_features=4, out_features=1280, bias=True)\n",
       "          (1): Dropout(p=0.25339714884646625, inplace=False)\n",
       "          (2): ReLU(inplace=True)\n",
       "          (3): Linear(in_features=1280, out_features=4, bias=True)\n",
       "        )\n",
       "        (norm1): LayerNorm((4,), eps=1e-05, elementwise_affine=True)\n",
       "        (norm2): LayerNorm((4,), eps=1e-05, elementwise_affine=True)\n",
       "        (dropout): Dropout(p=0.25339714884646625, inplace=False)\n",
       "      )\n",
       "      (1): EncoderBlock(\n",
       "        (self_attn): MultiheadAttention(\n",
       "          (qkv_proj): Linear(in_features=4, out_features=12, bias=True)\n",
       "          (o_proj): Linear(in_features=4, out_features=4, bias=True)\n",
       "        )\n",
       "        (linear_net): Sequential(\n",
       "          (0): Linear(in_features=4, out_features=1280, bias=True)\n",
       "          (1): Dropout(p=0.25339714884646625, inplace=False)\n",
       "          (2): ReLU(inplace=True)\n",
       "          (3): Linear(in_features=1280, out_features=4, bias=True)\n",
       "        )\n",
       "        (norm1): LayerNorm((4,), eps=1e-05, elementwise_affine=True)\n",
       "        (norm2): LayerNorm((4,), eps=1e-05, elementwise_affine=True)\n",
       "        (dropout): Dropout(p=0.25339714884646625, inplace=False)\n",
       "      )\n",
       "      (2): EncoderBlock(\n",
       "        (self_attn): MultiheadAttention(\n",
       "          (qkv_proj): Linear(in_features=4, out_features=12, bias=True)\n",
       "          (o_proj): Linear(in_features=4, out_features=4, bias=True)\n",
       "        )\n",
       "        (linear_net): Sequential(\n",
       "          (0): Linear(in_features=4, out_features=1280, bias=True)\n",
       "          (1): Dropout(p=0.25339714884646625, inplace=False)\n",
       "          (2): ReLU(inplace=True)\n",
       "          (3): Linear(in_features=1280, out_features=4, bias=True)\n",
       "        )\n",
       "        (norm1): LayerNorm((4,), eps=1e-05, elementwise_affine=True)\n",
       "        (norm2): LayerNorm((4,), eps=1e-05, elementwise_affine=True)\n",
       "        (dropout): Dropout(p=0.25339714884646625, inplace=False)\n",
       "      )\n",
       "    )\n",
       "  )\n",
       "  (embed_layer): Sequential(\n",
       "    (0): Flatten(start_dim=1, end_dim=-1)\n",
       "    (1): Linear(in_features=400, out_features=128, bias=True)\n",
       "  )\n",
       ")"
      ]
     },
     "execution_count": 8,
     "metadata": {},
     "output_type": "execute_result"
    }
   ],
   "source": [
    "with open(os.path.join(\"./saves/\", \"best_params_triplet_transformer.json\"), \"r\") as f:\n",
    "    best_params_tr_t = json.load(f)\n",
    "\n",
    "transformer_triplet = utils_model.TripletArchitecture(encoder_type=\"transformer\", **fixed_params_tr, **best_params_tr_t).float()\n",
    "PATH = \"./saves/best_triplet_transformer.pth\"\n",
    "transformer_triplet.load_state_dict(torch.load(PATH, map_location=device))\n",
    "transformer_triplet.eval()"
   ]
  },
  {
   "cell_type": "code",
   "execution_count": 9,
   "metadata": {
    "pycharm": {
     "name": "#%%\n"
    },
    "scrolled": true
   },
   "outputs": [
    {
     "data": {
      "text/plain": [
       "SiameseArchitecture(\n",
       "  (encoder): InformerEncoder(\n",
       "    (enc_embedding): DataEmbedding(\n",
       "      (value_embedding): TokenEmbedding(\n",
       "        (tokenConv): Conv1d(4, 64, kernel_size=(3,), stride=(1,), padding=(1,), padding_mode=circular)\n",
       "      )\n",
       "      (position_embedding): PositionalEmbedding()\n",
       "      (dropout): Dropout(p=0.22941928520960575, inplace=False)\n",
       "    )\n",
       "    (encoder): Encoder(\n",
       "      (attn_layers): ModuleList(\n",
       "        (0): EncoderLayer(\n",
       "          (attention): AttentionLayer(\n",
       "            (inner_attention): ProbAttention(\n",
       "              (dropout): Dropout(p=0.22941928520960575, inplace=False)\n",
       "            )\n",
       "            (query_projection): Linear(in_features=64, out_features=64, bias=True)\n",
       "            (key_projection): Linear(in_features=64, out_features=64, bias=True)\n",
       "            (value_projection): Linear(in_features=64, out_features=64, bias=True)\n",
       "            (out_projection): Linear(in_features=64, out_features=64, bias=True)\n",
       "          )\n",
       "          (conv1): Conv1d(64, 128, kernel_size=(1,), stride=(1,))\n",
       "          (conv2): Conv1d(128, 64, kernel_size=(1,), stride=(1,))\n",
       "          (norm1): LayerNorm((64,), eps=1e-05, elementwise_affine=True)\n",
       "          (norm2): LayerNorm((64,), eps=1e-05, elementwise_affine=True)\n",
       "          (dropout): Dropout(p=0.22941928520960575, inplace=False)\n",
       "        )\n",
       "        (1): EncoderLayer(\n",
       "          (attention): AttentionLayer(\n",
       "            (inner_attention): ProbAttention(\n",
       "              (dropout): Dropout(p=0.22941928520960575, inplace=False)\n",
       "            )\n",
       "            (query_projection): Linear(in_features=64, out_features=64, bias=True)\n",
       "            (key_projection): Linear(in_features=64, out_features=64, bias=True)\n",
       "            (value_projection): Linear(in_features=64, out_features=64, bias=True)\n",
       "            (out_projection): Linear(in_features=64, out_features=64, bias=True)\n",
       "          )\n",
       "          (conv1): Conv1d(64, 128, kernel_size=(1,), stride=(1,))\n",
       "          (conv2): Conv1d(128, 64, kernel_size=(1,), stride=(1,))\n",
       "          (norm1): LayerNorm((64,), eps=1e-05, elementwise_affine=True)\n",
       "          (norm2): LayerNorm((64,), eps=1e-05, elementwise_affine=True)\n",
       "          (dropout): Dropout(p=0.22941928520960575, inplace=False)\n",
       "        )\n",
       "      )\n",
       "      (norm): LayerNorm((64,), eps=1e-05, elementwise_affine=True)\n",
       "    )\n",
       "  )\n",
       "  (embed_layer): Sequential(\n",
       "    (0): Flatten(start_dim=1, end_dim=-1)\n",
       "    (1): Linear(in_features=6400, out_features=64, bias=True)\n",
       "  )\n",
       "  (fc): Sequential(\n",
       "    (0): Linear(in_features=128, out_features=64, bias=True)\n",
       "    (1): ReLU()\n",
       "    (2): Dropout(p=0.22941928520960575, inplace=False)\n",
       "    (3): Linear(in_features=64, out_features=64, bias=True)\n",
       "    (4): ReLU()\n",
       "    (5): Dropout(p=0.22941928520960575, inplace=False)\n",
       "    (6): Linear(in_features=64, out_features=1, bias=True)\n",
       "  )\n",
       "  (tfm): Sigmoid()\n",
       ")"
      ]
     },
     "execution_count": 9,
     "metadata": {},
     "output_type": "execute_result"
    }
   ],
   "source": [
    "fixed_params_inf = {\n",
    "    \"enc_in\": 4,\n",
    "    \"distil\": None,\n",
    "    \"device\": device,\n",
    "    \"attn\": \"prob\",\n",
    "    \"activation\": \"gelu\",\n",
    "    \"output_attention\": False,\n",
    "    \"n_seq\": 100\n",
    "}\n",
    "\n",
    "with open(os.path.join(\"./saves/\", \"best_params_siamese_informer.json\"), \"r\") as f:\n",
    "    best_params_inf_s = json.load(f)\n",
    "best_params_inf_s[\"fc_hidden_size\"] = 64\n",
    "\n",
    "informer_siamese = utils_model.SiameseArchitecture(encoder_type=\"informer\", **fixed_params_inf, **best_params_inf_s).float()\n",
    "PATH = \"./saves/best_siamese_informer.pth\"\n",
    "informer_siamese.load_state_dict(torch.load(PATH, map_location=device))\n",
    "informer_siamese.eval()"
   ]
  },
  {
   "cell_type": "code",
   "execution_count": 10,
   "metadata": {
    "pycharm": {
     "name": "#%%\n"
    },
    "scrolled": true
   },
   "outputs": [
    {
     "data": {
      "text/plain": [
       "SiameseArchitecture(\n",
       "  (encoder): PerformerEncoder(\n",
       "    (multi_head_attention): MultiHeadFAVORAttention(\n",
       "      (w_q): Linear(in_features=4, out_features=4, bias=True)\n",
       "      (w_k): Linear(in_features=4, out_features=4, bias=True)\n",
       "      (w_v): Linear(in_features=4, out_features=4, bias=True)\n",
       "      (w_o): Linear(in_features=4, out_features=4, bias=True)\n",
       "      (dropout): Dropout(p=0.1, inplace=False)\n",
       "    )\n",
       "    (residual_1): ResidualConnection(\n",
       "      (norm): LayerNorm()\n",
       "      (dropout): Dropout(p=0.4758865356491505, inplace=False)\n",
       "    )\n",
       "    (feed_forward): FeedForward(\n",
       "      (w_1): Linear(in_features=4, out_features=16, bias=True)\n",
       "      (w_2): Linear(in_features=16, out_features=4, bias=True)\n",
       "      (dropout): Dropout(p=0.1, inplace=False)\n",
       "    )\n",
       "    (residual_2): ResidualConnection(\n",
       "      (norm): LayerNorm()\n",
       "      (dropout): Dropout(p=0.4758865356491505, inplace=False)\n",
       "    )\n",
       "  )\n",
       "  (embed_layer): Sequential(\n",
       "    (0): Flatten(start_dim=1, end_dim=-1)\n",
       "    (1): Linear(in_features=400, out_features=4, bias=True)\n",
       "  )\n",
       "  (fc): Sequential(\n",
       "    (0): Linear(in_features=8, out_features=16, bias=True)\n",
       "    (1): ReLU()\n",
       "    (2): Dropout(p=0.4758865356491505, inplace=False)\n",
       "    (3): Linear(in_features=16, out_features=16, bias=True)\n",
       "    (4): ReLU()\n",
       "    (5): Dropout(p=0.4758865356491505, inplace=False)\n",
       "    (6): Linear(in_features=16, out_features=1, bias=True)\n",
       "  )\n",
       "  (tfm): Sigmoid()\n",
       ")"
      ]
     },
     "execution_count": 10,
     "metadata": {},
     "output_type": "execute_result"
    }
   ],
   "source": [
    "fixed_params_perf = {\n",
    "    \"dim\": 4,\n",
    "    \"device\": \"cpu\",\n",
    "    \"use_relu_kernel\": False,\n",
    "    \"n_seq\": 100\n",
    "}\n",
    "\n",
    "with open(os.path.join(\"./saves/\", \"best_params_siamese_performer.json\"), \"r\") as f:\n",
    "    best_params_perf_s = json.load(f)\n",
    "best_params_perf_s[\"fc_hidden_size\"] = 16\n",
    "\n",
    "performer_siamese = utils_model.SiameseArchitecture(encoder_type=\"performer\", **fixed_params_perf, **best_params_perf_s).float()\n",
    "PATH = \"./saves/best_siamese_performer.pth\"\n",
    "performer_siamese.load_state_dict(torch.load(PATH, map_location=device))\n",
    "performer_siamese.eval()"
   ]
  },
  {
   "cell_type": "markdown",
   "metadata": {
    "pycharm": {
     "name": "#%% md\n"
    }
   },
   "source": [
    "# Generate dataset"
   ]
  },
  {
   "cell_type": "code",
   "execution_count": 11,
   "metadata": {
    "pycharm": {
     "name": "#%%\n"
    }
   },
   "outputs": [],
   "source": [
    "_, slice_dataset = utils_dataset.generate_datasets(\n",
    "        df, df,\n",
    "        well_column=\"WELLNAME\",\n",
    "        slice_len=slice_len, \n",
    "        path_to_saves='./saves/',\n",
    "        results_len_train=0,\n",
    "        results_len_test=results_len,\n",
    "    )"
   ]
  },
  {
   "cell_type": "markdown",
   "metadata": {
    "pycharm": {
     "name": "#%% md\n"
    }
   },
   "source": [
    "# Get models' embeddings"
   ]
  },
  {
   "cell_type": "code",
   "execution_count": 12,
   "metadata": {
    "collapsed": false,
    "jupyter": {
     "outputs_hidden": false
    },
    "pycharm": {
     "name": "#%%\n"
    }
   },
   "outputs": [
    {
     "name": "stderr",
     "output_type": "stream",
     "text": [
      "70it [00:24,  2.82it/s]\n",
      "70it [00:13,  5.22it/s]\n",
      "70it [00:18,  3.74it/s]\n",
      "70it [00:02, 32.94it/s]\n"
     ]
    }
   ],
   "source": [
    "embeddings = {\n",
    "    'transformer_siamese': torch.tensor([]),\n",
    "    'transformer_triplet': torch.tensor([]),\n",
    "    'informer_siamese': torch.tensor([]),\n",
    "    'performer_siamese': torch.tensor([])\n",
    "}\n",
    "\n",
    "for model_type, model in zip(\n",
    "        embeddings.keys(),\n",
    "        [\n",
    "            transformer_siamese,\n",
    "            transformer_triplet,\n",
    "            informer_siamese,\n",
    "            performer_siamese\n",
    "        ]\n",
    "):\n",
    "    embeddings[model_type], wells = utils_emb.get_embeddings(\n",
    "        model,\n",
    "        model_type,\n",
    "        slice_dataset,\n",
    "        slice_len=slice_len,\n",
    "        input_size=df.shape[1]-1\n",
    "    )"
   ]
  },
  {
   "cell_type": "code",
   "execution_count": 13,
   "metadata": {
    "pycharm": {
     "name": "#%%\n"
    }
   },
   "outputs": [],
   "source": [
    "embeddings['transformer_siamese'] = embeddings['transformer_siamese'][:, None, :]\n",
    "embeddings['transformer_triplet'] = embeddings['transformer_triplet'][:, None, :]\n",
    "\n",
    "embeddings['informer_siamese'] = embeddings['informer_siamese'][:, None, :]\n",
    "embeddings['performer_siamese'] = embeddings['performer_siamese'][:, None, :]"
   ]
  },
  {
   "cell_type": "code",
   "execution_count": 14,
   "metadata": {
    "pycharm": {
     "name": "#%%\n"
    }
   },
   "outputs": [],
   "source": [
    "le = LabelEncoder()\n",
    "wells_tr = le.fit_transform(wells)"
   ]
  },
  {
   "cell_type": "code",
   "execution_count": 15,
   "metadata": {
    "pycharm": {
     "name": "#%%\n"
    }
   },
   "outputs": [],
   "source": [
    "wells_tr = torch.tensor(wells_tr)"
   ]
  },
  {
   "cell_type": "code",
   "execution_count": 16,
   "metadata": {
    "pycharm": {
     "name": "#%%\n"
    }
   },
   "outputs": [
    {
     "name": "stdout",
     "output_type": "stream",
     "text": [
      "70 70 70 70 70 (4,)\n"
     ]
    }
   ],
   "source": [
    "print(\n",
    "    len(embeddings['transformer_siamese']), len(embeddings['transformer_triplet']),\n",
    "    len(embeddings['informer_siamese']),\n",
    "    len(embeddings['performer_siamese']),\n",
    "    len(wells_tr), np.unique(wells_tr).shape\n",
    ")"
   ]
  },
  {
   "cell_type": "markdown",
   "metadata": {
    "pycharm": {
     "name": "#%% md\n"
    }
   },
   "source": [
    "# Split embeddings on train and test"
   ]
  },
  {
   "cell_type": "code",
   "execution_count": 17,
   "metadata": {
    "pycharm": {
     "name": "#%%\n"
    }
   },
   "outputs": [],
   "source": [
    "train = {\n",
    "    'transformer_siamese':torch.tensor([]),\n",
    "    'transformer_triplet':torch.tensor([]),\n",
    "    'informer_siamese':torch.tensor([]),\n",
    "    'performer_siamese':torch.tensor([]),\n",
    "}\n",
    "test = {\n",
    "    'transformer_siamese': torch.tensor([]),\n",
    "    'transformer_triplet': torch.tensor([]),\n",
    "    'informer_siamese': torch.tensor([]),\n",
    "    'performer_siamese': torch.tensor([]),\n",
    "}"
   ]
  },
  {
   "cell_type": "code",
   "execution_count": 18,
   "metadata": {
    "pycharm": {
     "name": "#%%\n"
    }
   },
   "outputs": [
    {
     "name": "stdout",
     "output_type": "stream",
     "text": [
      "37 33 \n",
      " 37 33 \n",
      " 37 33 \n",
      " 37 33\n"
     ]
    }
   ],
   "source": [
    "train_wells = []\n",
    "test_wells = []\n",
    "\n",
    "for i, (model, embeds) in enumerate(embeddings.items()):\n",
    "    for well in np.unique(wells_tr):\n",
    "        embs = embeds[wells_tr == well]\n",
    "        \n",
    "        train[model] = torch.cat(\n",
    "            [\n",
    "                train[model], \n",
    "                embs[:len(embs) // 2 + 1].detach()\n",
    "            ], dim=0\n",
    "        )\n",
    "        test[model] = torch.cat(\n",
    "            [\n",
    "                test[model], \n",
    "                embs[len(embs) // 2 + 1:].detach()\n",
    "            ], dim=0\n",
    "        )\n",
    "        \n",
    "        if i == 0:\n",
    "            train_wells.extend([well for j in range(0, len(embs) // 2 + 1)])\n",
    "            test_wells.extend([well for j in range(0, len(embs) - len(embs) // 2 - 1)])\n",
    "\n",
    "print(\n",
    "    len(train['transformer_siamese']), len(test['transformer_siamese']), '\\n',\n",
    "    len(train['informer_siamese']), len(test['informer_siamese']), '\\n',\n",
    "    len(train['performer_siamese']), len(test['performer_siamese']), '\\n',\n",
    "    len(train_wells), len(test_wells)\n",
    ")"
   ]
  },
  {
   "cell_type": "markdown",
   "metadata": {
    "pycharm": {
     "name": "#%% md\n"
    }
   },
   "source": [
    "# Train classifiers\n",
    "We train models to classify embeddings on wells."
   ]
  },
  {
   "cell_type": "code",
   "execution_count": 19,
   "metadata": {
    "collapsed": false,
    "jupyter": {
     "outputs_hidden": false
    },
    "pycharm": {
     "name": "#%%\n"
    }
   },
   "outputs": [],
   "source": [
    "output_size = len(torch.unique(wells_tr))\n",
    "batch_size = 64\n",
    "epochs = 3"
   ]
  },
  {
   "cell_type": "code",
   "execution_count": 20,
   "metadata": {
    "collapsed": false,
    "jupyter": {
     "outputs_hidden": false
    },
    "pycharm": {
     "name": "#%%\n"
    }
   },
   "outputs": [],
   "source": [
    "input_sizes = {\n",
    "    'transformer_siamese': best_params_tr_s[\"fc_hidden_size\"],\n",
    "    'transformer_triplet': best_params_tr_t[\"hidden_size\"],\n",
    "    'informer_siamese': best_params_inf_s[\"fc_hidden_size\"],\n",
    "    'performer_siamese': 4, # \"dim\" param in PerformerEncoder that was used for training in `all_models.ipynb`\n",
    "}"
   ]
  },
  {
   "cell_type": "markdown",
   "metadata": {
    "pycharm": {
     "name": "#%% md\n"
    }
   },
   "source": [
    "## XGBoost"
   ]
  },
  {
   "cell_type": "code",
   "execution_count": 21,
   "metadata": {
    "pycharm": {
     "name": "#%%\n"
    },
    "scrolled": true
   },
   "outputs": [
    {
     "name": "stdout",
     "output_type": "stream",
     "text": [
      "####################################################################################################\n",
      "transformer_siamese\n",
      "####################################################################################################\n",
      "[18:35:15] WARNING: ../src/learner.cc:1095: Starting in XGBoost 1.3.0, the default evaluation metric used with the objective 'multi:softprob' was changed from 'merror' to 'mlogloss'. Explicitly set eval_metric if you'd like to restore the old behavior.\n",
      "0.8484848484848485 0.9007523148148149 0.802386589105339 0.8784722222222222 0.84375\n",
      "####################################################################################################\n",
      "transformer_triplet\n",
      "####################################################################################################\n",
      "[18:35:34] WARNING: ../src/learner.cc:1095: Starting in XGBoost 1.3.0, the default evaluation metric used with the objective 'multi:softprob' was changed from 'merror' to 'mlogloss'. Explicitly set eval_metric if you'd like to restore the old behavior.\n",
      "0.8484848484848485 0.9683159722222222 0.9335301658218325 0.8493055555555555 0.8472222222222222\n",
      "####################################################################################################\n",
      "informer_siamese\n",
      "####################################################################################################\n",
      "[18:35:52] WARNING: ../src/learner.cc:1095: Starting in XGBoost 1.3.0, the default evaluation metric used with the objective 'multi:softprob' was changed from 'merror' to 'mlogloss'. Explicitly set eval_metric if you'd like to restore the old behavior.\n",
      "0.9696969696969697 0.9986979166666666 0.9965277777777778 0.975 0.96875\n",
      "####################################################################################################\n",
      "performer_siamese\n",
      "####################################################################################################\n",
      "[18:36:09] WARNING: ../src/learner.cc:1095: Starting in XGBoost 1.3.0, the default evaluation metric used with the objective 'multi:softprob' was changed from 'merror' to 'mlogloss'. Explicitly set eval_metric if you'd like to restore the old behavior.\n",
      "0.8484848484848485 0.9519675925925926 0.9008008773633773 0.8693181818181819 0.8541666666666666\n"
     ]
    }
   ],
   "source": [
    "results_xgb = []\n",
    "\n",
    "for model_name in train.keys():    \n",
    "    print(\"#\"*100)\n",
    "    print(model_name)\n",
    "    print(\"#\"*100)\n",
    "\n",
    "    model = XGBClassifier()\n",
    "\n",
    "    model.fit(\n",
    "        train[model_name].detach().cpu().numpy()[:, 0, :],\n",
    "        train_wells\n",
    "    )\n",
    "\n",
    "    y_preds = model.predict_proba(test[model_name].detach().cpu().numpy()[:, 0, :])\n",
    "\n",
    "    acc, roc_auc, pr_auc, precision, recall = utils_emb.calculate_metrics_for_final(\n",
    "        target=torch.tensor(test_wells),\n",
    "        y_pred=torch.tensor(y_preds)\n",
    "    )\n",
    "    print(acc, roc_auc, pr_auc, precision, recall)\n",
    "\n",
    "    results_xgb.append((acc, roc_auc, pr_auc, precision, recall))"
   ]
  },
  {
   "cell_type": "markdown",
   "metadata": {
    "pycharm": {
     "name": "#%% md\n"
    }
   },
   "source": [
    "## One linear layer"
   ]
  },
  {
   "cell_type": "code",
   "execution_count": 22,
   "metadata": {
    "collapsed": false,
    "jupyter": {
     "outputs_hidden": false
    },
    "pycharm": {
     "name": "#%%\n"
    },
    "scrolled": true
   },
   "outputs": [
    {
     "name": "stderr",
     "output_type": "stream",
     "text": [
      "GPU available: True, used: False\n",
      "TPU available: False, using: 0 TPU cores\n",
      "\n",
      "  | Name          | Type             | Params\n",
      "---------------------------------------------------\n",
      "0 | model         | Linear           | 516   \n",
      "1 | loss_function | CrossEntropyLoss | 0     \n",
      "---------------------------------------------------\n",
      "516       Trainable params\n",
      "0         Non-trainable params\n",
      "516       Total params\n",
      "0.002     Total estimated model params size (MB)\n"
     ]
    },
    {
     "name": "stdout",
     "output_type": "stream",
     "text": [
      "####################################################################################################\n",
      "transformer_siamese\n",
      "####################################################################################################\n"
     ]
    },
    {
     "data": {
      "application/json": {
       "ascii": false,
       "bar_format": null,
       "colour": null,
       "elapsed": 0.03053140640258789,
       "initial": 0,
       "n": 0,
       "ncols": null,
       "nrows": null,
       "postfix": null,
       "prefix": "Validation sanity check",
       "rate": null,
       "total": null,
       "unit": "it",
       "unit_divisor": 1000,
       "unit_scale": false
      },
      "application/vnd.jupyter.widget-view+json": {
       "model_id": "365c5b56bac5400fb08682daf666863d",
       "version_major": 2,
       "version_minor": 0
      },
      "text/plain": [
       "Validation sanity check: 0it [00:00, ?it/s]"
      ]
     },
     "metadata": {},
     "output_type": "display_data"
    },
    {
     "name": "stdout",
     "output_type": "stream",
     "text": [
      "mean_accuracy = 0.2727272727272727\n",
      "mean_roc_auc = 0.6725983796296297\n",
      "mean_pr_auc = 0.44080955489472284\n"
     ]
    },
    {
     "data": {
      "application/json": {
       "ascii": false,
       "bar_format": null,
       "colour": null,
       "elapsed": 0.02995896339416504,
       "initial": 0,
       "n": 0,
       "ncols": null,
       "nrows": null,
       "postfix": null,
       "prefix": "Training",
       "rate": null,
       "total": null,
       "unit": "it",
       "unit_divisor": 1000,
       "unit_scale": false
      },
      "application/vnd.jupyter.widget-view+json": {
       "model_id": "056a04ed50f94fb2be9a5ecd82aad952",
       "version_major": 2,
       "version_minor": 0
      },
      "text/plain": [
       "Training: 0it [00:00, ?it/s]"
      ]
     },
     "metadata": {},
     "output_type": "display_data"
    },
    {
     "data": {
      "application/json": {
       "ascii": false,
       "bar_format": null,
       "colour": null,
       "elapsed": 0.03394174575805664,
       "initial": 0,
       "n": 0,
       "ncols": null,
       "nrows": null,
       "postfix": null,
       "prefix": "Validating",
       "rate": null,
       "total": null,
       "unit": "it",
       "unit_divisor": 1000,
       "unit_scale": false
      },
      "application/vnd.jupyter.widget-view+json": {
       "model_id": "14a779e2dd014fadb494a618e8cd0a41",
       "version_major": 2,
       "version_minor": 0
      },
      "text/plain": [
       "Validating: 0it [00:00, ?it/s]"
      ]
     },
     "metadata": {},
     "output_type": "display_data"
    },
    {
     "name": "stdout",
     "output_type": "stream",
     "text": [
      "mean_accuracy = 0.2727272727272727\n",
      "mean_roc_auc = 0.6767939814814814\n",
      "mean_pr_auc = 0.43714798396889754\n"
     ]
    },
    {
     "data": {
      "application/json": {
       "ascii": false,
       "bar_format": null,
       "colour": null,
       "elapsed": 0.03369545936584473,
       "initial": 0,
       "n": 0,
       "ncols": null,
       "nrows": null,
       "postfix": null,
       "prefix": "Validating",
       "rate": null,
       "total": null,
       "unit": "it",
       "unit_divisor": 1000,
       "unit_scale": false
      },
      "application/vnd.jupyter.widget-view+json": {
       "model_id": "b09c401ba10e4417b495737beeaf4b31",
       "version_major": 2,
       "version_minor": 0
      },
      "text/plain": [
       "Validating: 0it [00:00, ?it/s]"
      ]
     },
     "metadata": {},
     "output_type": "display_data"
    },
    {
     "name": "stdout",
     "output_type": "stream",
     "text": [
      "mean_accuracy = 0.2727272727272727\n",
      "mean_roc_auc = 0.6715856481481483\n",
      "mean_pr_auc = 0.4401330125784494\n"
     ]
    },
    {
     "data": {
      "application/json": {
       "ascii": false,
       "bar_format": null,
       "colour": null,
       "elapsed": 0.0326840877532959,
       "initial": 0,
       "n": 0,
       "ncols": null,
       "nrows": null,
       "postfix": null,
       "prefix": "Validating",
       "rate": null,
       "total": null,
       "unit": "it",
       "unit_divisor": 1000,
       "unit_scale": false
      },
      "application/vnd.jupyter.widget-view+json": {
       "model_id": "01032e6cd22b4a33a9a68f63d808eec5",
       "version_major": 2,
       "version_minor": 0
      },
      "text/plain": [
       "Validating: 0it [00:00, ?it/s]"
      ]
     },
     "metadata": {},
     "output_type": "display_data"
    },
    {
     "name": "stderr",
     "output_type": "stream",
     "text": [
      "GPU available: True, used: False\n",
      "TPU available: False, using: 0 TPU cores\n",
      "\n",
      "  | Name          | Type             | Params\n",
      "---------------------------------------------------\n",
      "0 | model         | Linear           | 516   \n",
      "1 | loss_function | CrossEntropyLoss | 0     \n",
      "---------------------------------------------------\n",
      "516       Trainable params\n",
      "0         Non-trainable params\n",
      "516       Total params\n",
      "0.002     Total estimated model params size (MB)\n"
     ]
    },
    {
     "name": "stdout",
     "output_type": "stream",
     "text": [
      "mean_accuracy = 0.2727272727272727\n",
      "mean_roc_auc = 0.6665219907407407\n",
      "mean_pr_auc = 0.43688534838119153\n",
      "Accuracy: 0.2727, ROC AUC: 0.6665, PR AUC: 0.4369, Precision: 0.0682, Recall: 0.25\n",
      "####################################################################################################\n",
      "transformer_triplet\n",
      "####################################################################################################\n"
     ]
    },
    {
     "data": {
      "application/json": {
       "ascii": false,
       "bar_format": null,
       "colour": null,
       "elapsed": 0.04102969169616699,
       "initial": 0,
       "n": 0,
       "ncols": null,
       "nrows": null,
       "postfix": null,
       "prefix": "Validation sanity check",
       "rate": null,
       "total": null,
       "unit": "it",
       "unit_divisor": 1000,
       "unit_scale": false
      },
      "application/vnd.jupyter.widget-view+json": {
       "model_id": "914b25d6c35d4fcbbf2865eb1cc17d23",
       "version_major": 2,
       "version_minor": 0
      },
      "text/plain": [
       "Validation sanity check: 0it [00:00, ?it/s]"
      ]
     },
     "metadata": {},
     "output_type": "display_data"
    },
    {
     "name": "stdout",
     "output_type": "stream",
     "text": [
      "mean_accuracy = 0.030303030303030304\n",
      "mean_roc_auc = 0.2960069444444444\n",
      "mean_pr_auc = 0.20181342649542125\n"
     ]
    },
    {
     "data": {
      "application/json": {
       "ascii": false,
       "bar_format": null,
       "colour": null,
       "elapsed": 0.027773618698120117,
       "initial": 0,
       "n": 0,
       "ncols": null,
       "nrows": null,
       "postfix": null,
       "prefix": "Training",
       "rate": null,
       "total": null,
       "unit": "it",
       "unit_divisor": 1000,
       "unit_scale": false
      },
      "application/vnd.jupyter.widget-view+json": {
       "model_id": "a9a947dc7fcc45b98de8e630b190770d",
       "version_major": 2,
       "version_minor": 0
      },
      "text/plain": [
       "Training: 0it [00:00, ?it/s]"
      ]
     },
     "metadata": {},
     "output_type": "display_data"
    },
    {
     "data": {
      "application/json": {
       "ascii": false,
       "bar_format": null,
       "colour": null,
       "elapsed": 0.027216196060180664,
       "initial": 0,
       "n": 0,
       "ncols": null,
       "nrows": null,
       "postfix": null,
       "prefix": "Validating",
       "rate": null,
       "total": null,
       "unit": "it",
       "unit_divisor": 1000,
       "unit_scale": false
      },
      "application/vnd.jupyter.widget-view+json": {
       "model_id": "80bf88b0be2740dc97f0241b7d16b7c5",
       "version_major": 2,
       "version_minor": 0
      },
      "text/plain": [
       "Validating: 0it [00:00, ?it/s]"
      ]
     },
     "metadata": {},
     "output_type": "display_data"
    },
    {
     "name": "stdout",
     "output_type": "stream",
     "text": [
      "mean_accuracy = 0.09090909090909091\n",
      "mean_roc_auc = 0.3431712962962963\n",
      "mean_pr_auc = 0.21740459331911446\n"
     ]
    },
    {
     "data": {
      "application/json": {
       "ascii": false,
       "bar_format": null,
       "colour": null,
       "elapsed": 0.03876948356628418,
       "initial": 0,
       "n": 0,
       "ncols": null,
       "nrows": null,
       "postfix": null,
       "prefix": "Validating",
       "rate": null,
       "total": null,
       "unit": "it",
       "unit_divisor": 1000,
       "unit_scale": false
      },
      "application/vnd.jupyter.widget-view+json": {
       "model_id": "61a0b4ba987c4006bd3786f0a6796c9b",
       "version_major": 2,
       "version_minor": 0
      },
      "text/plain": [
       "Validating: 0it [00:00, ?it/s]"
      ]
     },
     "metadata": {},
     "output_type": "display_data"
    },
    {
     "name": "stdout",
     "output_type": "stream",
     "text": [
      "mean_accuracy = 0.18181818181818182\n",
      "mean_roc_auc = 0.40625\n",
      "mean_pr_auc = 0.25486869621365676\n"
     ]
    },
    {
     "data": {
      "application/json": {
       "ascii": false,
       "bar_format": null,
       "colour": null,
       "elapsed": 0.03712034225463867,
       "initial": 0,
       "n": 0,
       "ncols": null,
       "nrows": null,
       "postfix": null,
       "prefix": "Validating",
       "rate": null,
       "total": null,
       "unit": "it",
       "unit_divisor": 1000,
       "unit_scale": false
      },
      "application/vnd.jupyter.widget-view+json": {
       "model_id": "ee9509716f1a48978502efaf9271a860",
       "version_major": 2,
       "version_minor": 0
      },
      "text/plain": [
       "Validating: 0it [00:00, ?it/s]"
      ]
     },
     "metadata": {},
     "output_type": "display_data"
    },
    {
     "name": "stderr",
     "output_type": "stream",
     "text": [
      "GPU available: True, used: False\n",
      "TPU available: False, using: 0 TPU cores\n",
      "\n",
      "  | Name          | Type             | Params\n",
      "---------------------------------------------------\n",
      "0 | model         | Linear           | 260   \n",
      "1 | loss_function | CrossEntropyLoss | 0     \n",
      "---------------------------------------------------\n",
      "260       Trainable params\n",
      "0         Non-trainable params\n",
      "260       Total params\n",
      "0.001     Total estimated model params size (MB)\n"
     ]
    },
    {
     "name": "stdout",
     "output_type": "stream",
     "text": [
      "mean_accuracy = 0.24242424242424243\n",
      "mean_roc_auc = 0.5101273148148148\n",
      "mean_pr_auc = 0.3166682118109628\n",
      "Accuracy: 0.2424, ROC AUC: 0.5101, PR AUC: 0.3167, Precision: 0.0769, Recall: 0.2222\n",
      "####################################################################################################\n",
      "informer_siamese\n",
      "####################################################################################################\n"
     ]
    },
    {
     "data": {
      "application/json": {
       "ascii": false,
       "bar_format": null,
       "colour": null,
       "elapsed": 0.036267757415771484,
       "initial": 0,
       "n": 0,
       "ncols": null,
       "nrows": null,
       "postfix": null,
       "prefix": "Validation sanity check",
       "rate": null,
       "total": null,
       "unit": "it",
       "unit_divisor": 1000,
       "unit_scale": false
      },
      "application/vnd.jupyter.widget-view+json": {
       "model_id": "fa4b9fed2ab84dcca0721b7666366063",
       "version_major": 2,
       "version_minor": 0
      },
      "text/plain": [
       "Validation sanity check: 0it [00:00, ?it/s]"
      ]
     },
     "metadata": {},
     "output_type": "display_data"
    },
    {
     "name": "stdout",
     "output_type": "stream",
     "text": [
      "mean_accuracy = 0.0\n",
      "mean_roc_auc = 0.3541666666666667\n",
      "mean_pr_auc = 0.2253682071585013\n"
     ]
    },
    {
     "data": {
      "application/json": {
       "ascii": false,
       "bar_format": null,
       "colour": null,
       "elapsed": 0.03622579574584961,
       "initial": 0,
       "n": 0,
       "ncols": null,
       "nrows": null,
       "postfix": null,
       "prefix": "Training",
       "rate": null,
       "total": null,
       "unit": "it",
       "unit_divisor": 1000,
       "unit_scale": false
      },
      "application/vnd.jupyter.widget-view+json": {
       "model_id": "d97b85e97838454982098fe8a52efe9c",
       "version_major": 2,
       "version_minor": 0
      },
      "text/plain": [
       "Training: 0it [00:00, ?it/s]"
      ]
     },
     "metadata": {},
     "output_type": "display_data"
    },
    {
     "data": {
      "application/json": {
       "ascii": false,
       "bar_format": null,
       "colour": null,
       "elapsed": 0.037012338638305664,
       "initial": 0,
       "n": 0,
       "ncols": null,
       "nrows": null,
       "postfix": null,
       "prefix": "Validating",
       "rate": null,
       "total": null,
       "unit": "it",
       "unit_divisor": 1000,
       "unit_scale": false
      },
      "application/vnd.jupyter.widget-view+json": {
       "model_id": "9884093444ef474fb71bf2dce4baf036",
       "version_major": 2,
       "version_minor": 0
      },
      "text/plain": [
       "Validating: 0it [00:00, ?it/s]"
      ]
     },
     "metadata": {},
     "output_type": "display_data"
    },
    {
     "name": "stdout",
     "output_type": "stream",
     "text": [
      "mean_accuracy = 0.0\n",
      "mean_roc_auc = 0.3576388888888889\n",
      "mean_pr_auc = 0.2281707865235807\n"
     ]
    },
    {
     "data": {
      "application/json": {
       "ascii": false,
       "bar_format": null,
       "colour": null,
       "elapsed": 0.039948463439941406,
       "initial": 0,
       "n": 0,
       "ncols": null,
       "nrows": null,
       "postfix": null,
       "prefix": "Validating",
       "rate": null,
       "total": null,
       "unit": "it",
       "unit_divisor": 1000,
       "unit_scale": false
      },
      "application/vnd.jupyter.widget-view+json": {
       "model_id": "806dd6e2c4134f0082b90feb98e10352",
       "version_major": 2,
       "version_minor": 0
      },
      "text/plain": [
       "Validating: 0it [00:00, ?it/s]"
      ]
     },
     "metadata": {},
     "output_type": "display_data"
    },
    {
     "name": "stdout",
     "output_type": "stream",
     "text": [
      "mean_accuracy = 0.0\n",
      "mean_roc_auc = 0.3634259259259259\n",
      "mean_pr_auc = 0.23312786480866232\n"
     ]
    },
    {
     "data": {
      "application/json": {
       "ascii": false,
       "bar_format": null,
       "colour": null,
       "elapsed": 0.02842855453491211,
       "initial": 0,
       "n": 0,
       "ncols": null,
       "nrows": null,
       "postfix": null,
       "prefix": "Validating",
       "rate": null,
       "total": null,
       "unit": "it",
       "unit_divisor": 1000,
       "unit_scale": false
      },
      "application/vnd.jupyter.widget-view+json": {
       "model_id": "062fa06237d340b48954dbf50ad60e3d",
       "version_major": 2,
       "version_minor": 0
      },
      "text/plain": [
       "Validating: 0it [00:00, ?it/s]"
      ]
     },
     "metadata": {},
     "output_type": "display_data"
    },
    {
     "name": "stderr",
     "output_type": "stream",
     "text": [
      "GPU available: True, used: False\n",
      "TPU available: False, using: 0 TPU cores\n",
      "\n",
      "  | Name          | Type             | Params\n",
      "---------------------------------------------------\n",
      "0 | model         | Linear           | 20    \n",
      "1 | loss_function | CrossEntropyLoss | 0     \n",
      "---------------------------------------------------\n",
      "20        Trainable params\n",
      "0         Non-trainable params\n",
      "20        Total params\n",
      "0.000     Total estimated model params size (MB)\n"
     ]
    },
    {
     "name": "stdout",
     "output_type": "stream",
     "text": [
      "mean_accuracy = 0.0\n",
      "mean_roc_auc = 0.37065972222222215\n",
      "mean_pr_auc = 0.23820028944383898\n",
      "Accuracy: 0.0, ROC AUC: 0.3707, PR AUC: 0.2382, Precision: 0.0, Recall: 0.0\n",
      "####################################################################################################\n",
      "performer_siamese\n",
      "####################################################################################################\n"
     ]
    },
    {
     "data": {
      "application/json": {
       "ascii": false,
       "bar_format": null,
       "colour": null,
       "elapsed": 0.02923297882080078,
       "initial": 0,
       "n": 0,
       "ncols": null,
       "nrows": null,
       "postfix": null,
       "prefix": "Validation sanity check",
       "rate": null,
       "total": null,
       "unit": "it",
       "unit_divisor": 1000,
       "unit_scale": false
      },
      "application/vnd.jupyter.widget-view+json": {
       "model_id": "6ee4b3d01e9d44edb0f380382ff688f1",
       "version_major": 2,
       "version_minor": 0
      },
      "text/plain": [
       "Validation sanity check: 0it [00:00, ?it/s]"
      ]
     },
     "metadata": {},
     "output_type": "display_data"
    },
    {
     "name": "stdout",
     "output_type": "stream",
     "text": [
      "mean_accuracy = 0.24242424242424243\n",
      "mean_roc_auc = 0.4415509259259259\n",
      "mean_pr_auc = 0.33927852240690204\n"
     ]
    },
    {
     "data": {
      "application/json": {
       "ascii": false,
       "bar_format": null,
       "colour": null,
       "elapsed": 0.035608768463134766,
       "initial": 0,
       "n": 0,
       "ncols": null,
       "nrows": null,
       "postfix": null,
       "prefix": "Training",
       "rate": null,
       "total": null,
       "unit": "it",
       "unit_divisor": 1000,
       "unit_scale": false
      },
      "application/vnd.jupyter.widget-view+json": {
       "model_id": "6a2af5d32d3d4d198ee2baf74dda22f3",
       "version_major": 2,
       "version_minor": 0
      },
      "text/plain": [
       "Training: 0it [00:00, ?it/s]"
      ]
     },
     "metadata": {},
     "output_type": "display_data"
    },
    {
     "data": {
      "application/json": {
       "ascii": false,
       "bar_format": null,
       "colour": null,
       "elapsed": 0.03769636154174805,
       "initial": 0,
       "n": 0,
       "ncols": null,
       "nrows": null,
       "postfix": null,
       "prefix": "Validating",
       "rate": null,
       "total": null,
       "unit": "it",
       "unit_divisor": 1000,
       "unit_scale": false
      },
      "application/vnd.jupyter.widget-view+json": {
       "model_id": "9e4c42b34b794b1b912fa3de7e365d1b",
       "version_major": 2,
       "version_minor": 0
      },
      "text/plain": [
       "Validating: 0it [00:00, ?it/s]"
      ]
     },
     "metadata": {},
     "output_type": "display_data"
    },
    {
     "name": "stdout",
     "output_type": "stream",
     "text": [
      "mean_accuracy = 0.24242424242424243\n",
      "mean_roc_auc = 0.4454571759259259\n",
      "mean_pr_auc = 0.3407627434876788\n"
     ]
    },
    {
     "data": {
      "application/json": {
       "ascii": false,
       "bar_format": null,
       "colour": null,
       "elapsed": 0.03946256637573242,
       "initial": 0,
       "n": 0,
       "ncols": null,
       "nrows": null,
       "postfix": null,
       "prefix": "Validating",
       "rate": null,
       "total": null,
       "unit": "it",
       "unit_divisor": 1000,
       "unit_scale": false
      },
      "application/vnd.jupyter.widget-view+json": {
       "model_id": "c50a3bfda0d24b96a9e289fe962f4be2",
       "version_major": 2,
       "version_minor": 0
      },
      "text/plain": [
       "Validating: 0it [00:00, ?it/s]"
      ]
     },
     "metadata": {},
     "output_type": "display_data"
    },
    {
     "name": "stdout",
     "output_type": "stream",
     "text": [
      "mean_accuracy = 0.24242424242424243\n",
      "mean_roc_auc = 0.45283564814814814\n",
      "mean_pr_auc = 0.3483636890042254\n"
     ]
    },
    {
     "data": {
      "application/json": {
       "ascii": false,
       "bar_format": null,
       "colour": null,
       "elapsed": 0.03734230995178223,
       "initial": 0,
       "n": 0,
       "ncols": null,
       "nrows": null,
       "postfix": null,
       "prefix": "Validating",
       "rate": null,
       "total": null,
       "unit": "it",
       "unit_divisor": 1000,
       "unit_scale": false
      },
      "application/vnd.jupyter.widget-view+json": {
       "model_id": "c875fc10dc63476c8c11653d8780fcbd",
       "version_major": 2,
       "version_minor": 0
      },
      "text/plain": [
       "Validating: 0it [00:00, ?it/s]"
      ]
     },
     "metadata": {},
     "output_type": "display_data"
    },
    {
     "name": "stdout",
     "output_type": "stream",
     "text": [
      "mean_accuracy = 0.24242424242424243\n",
      "mean_roc_auc = 0.4616608796296296\n",
      "mean_pr_auc = 0.3514051631834037\n",
      "Accuracy: 0.2424, ROC AUC: 0.4617, PR AUC: 0.3514, Precision: 0.1605, Recall: 0.2465\n"
     ]
    }
   ],
   "source": [
    "results_1_layer = []\n",
    "\n",
    "for model_name in train.keys():\n",
    "    print(\"#\"*100)\n",
    "    print(model_name)\n",
    "    print(\"#\"*100)\n",
    "\n",
    "    model = nn.Linear(input_sizes[model_name], output_size)\n",
    "\n",
    "    model, logger, metrics = utils_emb.train_test_linear_classifier(\n",
    "        train[model_name],\n",
    "        test[model_name],\n",
    "        train_wells,\n",
    "        test_wells,\n",
    "        model,\n",
    "        model_name,\n",
    "        batch_size=batch_size,\n",
    "        epochs=epochs,\n",
    "        gpu=device.index,\n",
    "        log_dir=\"./logs\",\n",
    "    )\n",
    "\n",
    "    results_1_layer.append(metrics)"
   ]
  },
  {
   "cell_type": "markdown",
   "metadata": {
    "pycharm": {
     "name": "#%% md\n"
    }
   },
   "source": [
    "To analyse training process, one can use `tensorboard` extension for jupyter notebook. To use it, please, uncomment the cell below:"
   ]
  },
  {
   "cell_type": "code",
   "execution_count": 23,
   "metadata": {
    "pycharm": {
     "name": "#%%\n"
    }
   },
   "outputs": [],
   "source": [
    "# %load_ext tensorboard\n",
    "# %tensorboard --logdir ./logs --host 0.0.0.0"
   ]
  },
  {
   "cell_type": "markdown",
   "metadata": {
    "pycharm": {
     "name": "#%% md\n"
    }
   },
   "source": [
    "## FCNN"
   ]
  },
  {
   "cell_type": "code",
   "execution_count": 24,
   "metadata": {
    "collapsed": false,
    "jupyter": {
     "outputs_hidden": false
    },
    "pycharm": {
     "name": "#%%\n"
    },
    "scrolled": true
   },
   "outputs": [
    {
     "name": "stderr",
     "output_type": "stream",
     "text": [
      "GPU available: True, used: False\n",
      "TPU available: False, using: 0 TPU cores\n",
      "\n",
      "  | Name          | Type             | Params\n",
      "---------------------------------------------------\n",
      "0 | model         | Sequential       | 17.1 K\n",
      "1 | loss_function | CrossEntropyLoss | 0     \n",
      "---------------------------------------------------\n",
      "17.1 K    Trainable params\n",
      "0         Non-trainable params\n",
      "17.1 K    Total params\n",
      "0.068     Total estimated model params size (MB)\n"
     ]
    },
    {
     "name": "stdout",
     "output_type": "stream",
     "text": [
      "####################################################################################################\n",
      "transformer_siamese\n",
      "####################################################################################################\n"
     ]
    },
    {
     "data": {
      "application/json": {
       "ascii": false,
       "bar_format": null,
       "colour": null,
       "elapsed": 0.03688526153564453,
       "initial": 0,
       "n": 0,
       "ncols": null,
       "nrows": null,
       "postfix": null,
       "prefix": "Validation sanity check",
       "rate": null,
       "total": null,
       "unit": "it",
       "unit_divisor": 1000,
       "unit_scale": false
      },
      "application/vnd.jupyter.widget-view+json": {
       "model_id": "8ef2d12dab624099a3f173e9b5dad222",
       "version_major": 2,
       "version_minor": 0
      },
      "text/plain": [
       "Validation sanity check: 0it [00:00, ?it/s]"
      ]
     },
     "metadata": {},
     "output_type": "display_data"
    },
    {
     "name": "stdout",
     "output_type": "stream",
     "text": [
      "mean_accuracy = 0.2727272727272727\n",
      "mean_roc_auc = 0.8120659722222223\n",
      "mean_pr_auc = 0.5313618210493211\n"
     ]
    },
    {
     "data": {
      "application/json": {
       "ascii": false,
       "bar_format": null,
       "colour": null,
       "elapsed": 0.037660837173461914,
       "initial": 0,
       "n": 0,
       "ncols": null,
       "nrows": null,
       "postfix": null,
       "prefix": "Training",
       "rate": null,
       "total": null,
       "unit": "it",
       "unit_divisor": 1000,
       "unit_scale": false
      },
      "application/vnd.jupyter.widget-view+json": {
       "model_id": "8f6f3c5fc57c4667bc61b6e3d1a27b03",
       "version_major": 2,
       "version_minor": 0
      },
      "text/plain": [
       "Training: 0it [00:00, ?it/s]"
      ]
     },
     "metadata": {},
     "output_type": "display_data"
    },
    {
     "data": {
      "application/json": {
       "ascii": false,
       "bar_format": null,
       "colour": null,
       "elapsed": 0.05277252197265625,
       "initial": 0,
       "n": 0,
       "ncols": null,
       "nrows": null,
       "postfix": null,
       "prefix": "Validating",
       "rate": null,
       "total": null,
       "unit": "it",
       "unit_divisor": 1000,
       "unit_scale": false
      },
      "application/vnd.jupyter.widget-view+json": {
       "model_id": "dfc672407c5a44019e3299f7d5c7275a",
       "version_major": 2,
       "version_minor": 0
      },
      "text/plain": [
       "Validating: 0it [00:00, ?it/s]"
      ]
     },
     "metadata": {},
     "output_type": "display_data"
    },
    {
     "name": "stdout",
     "output_type": "stream",
     "text": [
      "mean_accuracy = 0.2727272727272727\n",
      "mean_roc_auc = 0.8327546296296297\n",
      "mean_pr_auc = 0.6364221249553912\n"
     ]
    },
    {
     "data": {
      "application/json": {
       "ascii": false,
       "bar_format": null,
       "colour": null,
       "elapsed": 0.03655600547790527,
       "initial": 0,
       "n": 0,
       "ncols": null,
       "nrows": null,
       "postfix": null,
       "prefix": "Validating",
       "rate": null,
       "total": null,
       "unit": "it",
       "unit_divisor": 1000,
       "unit_scale": false
      },
      "application/vnd.jupyter.widget-view+json": {
       "model_id": "885e689cfc7d4c8d91aff7106cfea195",
       "version_major": 2,
       "version_minor": 0
      },
      "text/plain": [
       "Validating: 0it [00:00, ?it/s]"
      ]
     },
     "metadata": {},
     "output_type": "display_data"
    },
    {
     "name": "stdout",
     "output_type": "stream",
     "text": [
      "mean_accuracy = 0.2727272727272727\n",
      "mean_roc_auc = 0.8463541666666666\n",
      "mean_pr_auc = 0.644677688212171\n"
     ]
    },
    {
     "data": {
      "application/json": {
       "ascii": false,
       "bar_format": null,
       "colour": null,
       "elapsed": 0.031019210815429688,
       "initial": 0,
       "n": 0,
       "ncols": null,
       "nrows": null,
       "postfix": null,
       "prefix": "Validating",
       "rate": null,
       "total": null,
       "unit": "it",
       "unit_divisor": 1000,
       "unit_scale": false
      },
      "application/vnd.jupyter.widget-view+json": {
       "model_id": "cff6a870c6404418b44b584201053e14",
       "version_major": 2,
       "version_minor": 0
      },
      "text/plain": [
       "Validating: 0it [00:00, ?it/s]"
      ]
     },
     "metadata": {},
     "output_type": "display_data"
    },
    {
     "name": "stderr",
     "output_type": "stream",
     "text": [
      "GPU available: True, used: False\n",
      "TPU available: False, using: 0 TPU cores\n",
      "\n",
      "  | Name          | Type             | Params\n",
      "---------------------------------------------------\n",
      "0 | model         | Sequential       | 17.1 K\n",
      "1 | loss_function | CrossEntropyLoss | 0     \n",
      "---------------------------------------------------\n",
      "17.1 K    Trainable params\n",
      "0         Non-trainable params\n",
      "17.1 K    Total params\n",
      "0.068     Total estimated model params size (MB)\n"
     ]
    },
    {
     "name": "stdout",
     "output_type": "stream",
     "text": [
      "mean_accuracy = 0.2727272727272727\n",
      "mean_roc_auc = 0.8499710648148149\n",
      "mean_pr_auc = 0.6437155165096342\n",
      "Accuracy: 0.2727, ROC AUC: 0.85, PR AUC: 0.6437, Precision: 0.0682, Recall: 0.25\n",
      "####################################################################################################\n",
      "transformer_triplet\n",
      "####################################################################################################\n"
     ]
    },
    {
     "data": {
      "application/json": {
       "ascii": false,
       "bar_format": null,
       "colour": null,
       "elapsed": 0.0318911075592041,
       "initial": 0,
       "n": 0,
       "ncols": null,
       "nrows": null,
       "postfix": null,
       "prefix": "Validation sanity check",
       "rate": null,
       "total": null,
       "unit": "it",
       "unit_divisor": 1000,
       "unit_scale": false
      },
      "application/vnd.jupyter.widget-view+json": {
       "model_id": "43fa7ab11cc44b27b53b10d66fe0fbf5",
       "version_major": 2,
       "version_minor": 0
      },
      "text/plain": [
       "Validation sanity check: 0it [00:00, ?it/s]"
      ]
     },
     "metadata": {},
     "output_type": "display_data"
    },
    {
     "name": "stdout",
     "output_type": "stream",
     "text": [
      "mean_accuracy = 0.42424242424242425\n",
      "mean_roc_auc = 0.8096064814814815\n",
      "mean_pr_auc = 0.6345273168189834\n"
     ]
    },
    {
     "data": {
      "application/json": {
       "ascii": false,
       "bar_format": null,
       "colour": null,
       "elapsed": 0.02731800079345703,
       "initial": 0,
       "n": 0,
       "ncols": null,
       "nrows": null,
       "postfix": null,
       "prefix": "Training",
       "rate": null,
       "total": null,
       "unit": "it",
       "unit_divisor": 1000,
       "unit_scale": false
      },
      "application/vnd.jupyter.widget-view+json": {
       "model_id": "3883de0c45cf42b88891c89bc1aad56a",
       "version_major": 2,
       "version_minor": 0
      },
      "text/plain": [
       "Training: 0it [00:00, ?it/s]"
      ]
     },
     "metadata": {},
     "output_type": "display_data"
    },
    {
     "data": {
      "application/json": {
       "ascii": false,
       "bar_format": null,
       "colour": null,
       "elapsed": 0.037200212478637695,
       "initial": 0,
       "n": 0,
       "ncols": null,
       "nrows": null,
       "postfix": null,
       "prefix": "Validating",
       "rate": null,
       "total": null,
       "unit": "it",
       "unit_divisor": 1000,
       "unit_scale": false
      },
      "application/vnd.jupyter.widget-view+json": {
       "model_id": "ecd968a7c8a14bce879250a45a862f58",
       "version_major": 2,
       "version_minor": 0
      },
      "text/plain": [
       "Validating: 0it [00:00, ?it/s]"
      ]
     },
     "metadata": {},
     "output_type": "display_data"
    },
    {
     "name": "stdout",
     "output_type": "stream",
     "text": [
      "mean_accuracy = 0.6060606060606061\n",
      "mean_roc_auc = 0.9331597222222222\n",
      "mean_pr_auc = 0.843030753968254\n"
     ]
    },
    {
     "data": {
      "application/json": {
       "ascii": false,
       "bar_format": null,
       "colour": null,
       "elapsed": 0.029183149337768555,
       "initial": 0,
       "n": 0,
       "ncols": null,
       "nrows": null,
       "postfix": null,
       "prefix": "Validating",
       "rate": null,
       "total": null,
       "unit": "it",
       "unit_divisor": 1000,
       "unit_scale": false
      },
      "application/vnd.jupyter.widget-view+json": {
       "model_id": "e146b51dd1e1420d983880a76a9231b3",
       "version_major": 2,
       "version_minor": 0
      },
      "text/plain": [
       "Validating: 0it [00:00, ?it/s]"
      ]
     },
     "metadata": {},
     "output_type": "display_data"
    },
    {
     "name": "stdout",
     "output_type": "stream",
     "text": [
      "mean_accuracy = 0.7575757575757576\n",
      "mean_roc_auc = 0.9486400462962963\n",
      "mean_pr_auc = 0.8942003598253598\n"
     ]
    },
    {
     "data": {
      "application/json": {
       "ascii": false,
       "bar_format": null,
       "colour": null,
       "elapsed": 0.030553817749023438,
       "initial": 0,
       "n": 0,
       "ncols": null,
       "nrows": null,
       "postfix": null,
       "prefix": "Validating",
       "rate": null,
       "total": null,
       "unit": "it",
       "unit_divisor": 1000,
       "unit_scale": false
      },
      "application/vnd.jupyter.widget-view+json": {
       "model_id": "4ba8d8d025bf4fc09cf5e612d89499e6",
       "version_major": 2,
       "version_minor": 0
      },
      "text/plain": [
       "Validating: 0it [00:00, ?it/s]"
      ]
     },
     "metadata": {},
     "output_type": "display_data"
    },
    {
     "name": "stderr",
     "output_type": "stream",
     "text": [
      "GPU available: True, used: False\n",
      "TPU available: False, using: 0 TPU cores\n",
      "\n",
      "  | Name          | Type             | Params\n",
      "---------------------------------------------------\n",
      "0 | model         | Sequential       | 13.0 K\n",
      "1 | loss_function | CrossEntropyLoss | 0     \n",
      "---------------------------------------------------\n",
      "13.0 K    Trainable params\n",
      "0         Non-trainable params\n",
      "13.0 K    Total params\n",
      "0.052     Total estimated model params size (MB)\n"
     ]
    },
    {
     "name": "stdout",
     "output_type": "stream",
     "text": [
      "mean_accuracy = 0.7272727272727273\n",
      "mean_roc_auc = 0.9509548611111112\n",
      "mean_pr_auc = 0.9000270562770563\n",
      "Accuracy: 0.7273, ROC AUC: 0.951, PR AUC: 0.9, Precision: 0.6176, Recall: 0.75\n",
      "####################################################################################################\n",
      "informer_siamese\n",
      "####################################################################################################\n"
     ]
    },
    {
     "data": {
      "application/json": {
       "ascii": false,
       "bar_format": null,
       "colour": null,
       "elapsed": 0.03515148162841797,
       "initial": 0,
       "n": 0,
       "ncols": null,
       "nrows": null,
       "postfix": null,
       "prefix": "Validation sanity check",
       "rate": null,
       "total": null,
       "unit": "it",
       "unit_divisor": 1000,
       "unit_scale": false
      },
      "application/vnd.jupyter.widget-view+json": {
       "model_id": "d92740853cbe482fb200ef46e1a6942c",
       "version_major": 2,
       "version_minor": 0
      },
      "text/plain": [
       "Validation sanity check: 0it [00:00, ?it/s]"
      ]
     },
     "metadata": {},
     "output_type": "display_data"
    },
    {
     "name": "stdout",
     "output_type": "stream",
     "text": [
      "mean_accuracy = 0.24242424242424243\n",
      "mean_roc_auc = 0.4764178240740741\n",
      "mean_pr_auc = 0.41601666180777525\n"
     ]
    },
    {
     "data": {
      "application/json": {
       "ascii": false,
       "bar_format": null,
       "colour": null,
       "elapsed": 0.028972625732421875,
       "initial": 0,
       "n": 0,
       "ncols": null,
       "nrows": null,
       "postfix": null,
       "prefix": "Training",
       "rate": null,
       "total": null,
       "unit": "it",
       "unit_divisor": 1000,
       "unit_scale": false
      },
      "application/vnd.jupyter.widget-view+json": {
       "model_id": "2f2d629ecd234f0c929e894d75cff27c",
       "version_major": 2,
       "version_minor": 0
      },
      "text/plain": [
       "Training: 0it [00:00, ?it/s]"
      ]
     },
     "metadata": {},
     "output_type": "display_data"
    },
    {
     "data": {
      "application/json": {
       "ascii": false,
       "bar_format": null,
       "colour": null,
       "elapsed": 0.035723209381103516,
       "initial": 0,
       "n": 0,
       "ncols": null,
       "nrows": null,
       "postfix": null,
       "prefix": "Validating",
       "rate": null,
       "total": null,
       "unit": "it",
       "unit_divisor": 1000,
       "unit_scale": false
      },
      "application/vnd.jupyter.widget-view+json": {
       "model_id": "17b4dfd31d0c4ae1a7517adaf8cdd2bd",
       "version_major": 2,
       "version_minor": 0
      },
      "text/plain": [
       "Validating: 0it [00:00, ?it/s]"
      ]
     },
     "metadata": {},
     "output_type": "display_data"
    },
    {
     "name": "stdout",
     "output_type": "stream",
     "text": [
      "mean_accuracy = 0.5151515151515151\n",
      "mean_roc_auc = 0.6950231481481483\n",
      "mean_pr_auc = 0.45013965569113334\n"
     ]
    },
    {
     "data": {
      "application/json": {
       "ascii": false,
       "bar_format": null,
       "colour": null,
       "elapsed": 0.03122997283935547,
       "initial": 0,
       "n": 0,
       "ncols": null,
       "nrows": null,
       "postfix": null,
       "prefix": "Validating",
       "rate": null,
       "total": null,
       "unit": "it",
       "unit_divisor": 1000,
       "unit_scale": false
      },
      "application/vnd.jupyter.widget-view+json": {
       "model_id": "41bfd152fae3409e833fd9c8c3ddff90",
       "version_major": 2,
       "version_minor": 0
      },
      "text/plain": [
       "Validating: 0it [00:00, ?it/s]"
      ]
     },
     "metadata": {},
     "output_type": "display_data"
    },
    {
     "name": "stdout",
     "output_type": "stream",
     "text": [
      "mean_accuracy = 0.5151515151515151\n",
      "mean_roc_auc = 0.9058159722222222\n",
      "mean_pr_auc = 0.7768783300033301\n"
     ]
    },
    {
     "data": {
      "application/json": {
       "ascii": false,
       "bar_format": null,
       "colour": null,
       "elapsed": 0.03424835205078125,
       "initial": 0,
       "n": 0,
       "ncols": null,
       "nrows": null,
       "postfix": null,
       "prefix": "Validating",
       "rate": null,
       "total": null,
       "unit": "it",
       "unit_divisor": 1000,
       "unit_scale": false
      },
      "application/vnd.jupyter.widget-view+json": {
       "model_id": "52dd2ade9bc7443f8c0dcd091c93564e",
       "version_major": 2,
       "version_minor": 0
      },
      "text/plain": [
       "Validating: 0it [00:00, ?it/s]"
      ]
     },
     "metadata": {},
     "output_type": "display_data"
    },
    {
     "name": "stderr",
     "output_type": "stream",
     "text": [
      "GPU available: True, used: False\n",
      "TPU available: False, using: 0 TPU cores\n",
      "\n",
      "  | Name          | Type             | Params\n",
      "---------------------------------------------------\n",
      "0 | model         | Sequential       | 9.2 K \n",
      "1 | loss_function | CrossEntropyLoss | 0     \n",
      "---------------------------------------------------\n",
      "9.2 K     Trainable params\n",
      "0         Non-trainable params\n",
      "9.2 K     Total params\n",
      "0.037     Total estimated model params size (MB)\n"
     ]
    },
    {
     "name": "stdout",
     "output_type": "stream",
     "text": [
      "mean_accuracy = 0.48484848484848486\n",
      "mean_roc_auc = 0.8893229166666666\n",
      "mean_pr_auc = 0.7504088793151293\n",
      "Accuracy: 0.4848, ROC AUC: 0.8893, PR AUC: 0.7504, Precision: 0.2426, Recall: 0.5\n",
      "####################################################################################################\n",
      "performer_siamese\n",
      "####################################################################################################\n"
     ]
    },
    {
     "data": {
      "application/json": {
       "ascii": false,
       "bar_format": null,
       "colour": null,
       "elapsed": 0.0350492000579834,
       "initial": 0,
       "n": 0,
       "ncols": null,
       "nrows": null,
       "postfix": null,
       "prefix": "Validation sanity check",
       "rate": null,
       "total": null,
       "unit": "it",
       "unit_divisor": 1000,
       "unit_scale": false
      },
      "application/vnd.jupyter.widget-view+json": {
       "model_id": "1c1996d227064dbf844a5adbfca33c73",
       "version_major": 2,
       "version_minor": 0
      },
      "text/plain": [
       "Validation sanity check: 0it [00:00, ?it/s]"
      ]
     },
     "metadata": {},
     "output_type": "display_data"
    },
    {
     "name": "stdout",
     "output_type": "stream",
     "text": [
      "mean_accuracy = 0.12121212121212122\n",
      "mean_roc_auc = 0.33695023148148145\n",
      "mean_pr_auc = 0.22710807457332416\n"
     ]
    },
    {
     "data": {
      "application/json": {
       "ascii": false,
       "bar_format": null,
       "colour": null,
       "elapsed": 0.03342151641845703,
       "initial": 0,
       "n": 0,
       "ncols": null,
       "nrows": null,
       "postfix": null,
       "prefix": "Training",
       "rate": null,
       "total": null,
       "unit": "it",
       "unit_divisor": 1000,
       "unit_scale": false
      },
      "application/vnd.jupyter.widget-view+json": {
       "model_id": "4d4033afc0be4b758129d5187c2bd9d4",
       "version_major": 2,
       "version_minor": 0
      },
      "text/plain": [
       "Training: 0it [00:00, ?it/s]"
      ]
     },
     "metadata": {},
     "output_type": "display_data"
    },
    {
     "data": {
      "application/json": {
       "ascii": false,
       "bar_format": null,
       "colour": null,
       "elapsed": 0.039652347564697266,
       "initial": 0,
       "n": 0,
       "ncols": null,
       "nrows": null,
       "postfix": null,
       "prefix": "Validating",
       "rate": null,
       "total": null,
       "unit": "it",
       "unit_divisor": 1000,
       "unit_scale": false
      },
      "application/vnd.jupyter.widget-view+json": {
       "model_id": "fb2a772b11f24501b3a6a93e56cc0205",
       "version_major": 2,
       "version_minor": 0
      },
      "text/plain": [
       "Validating: 0it [00:00, ?it/s]"
      ]
     },
     "metadata": {},
     "output_type": "display_data"
    },
    {
     "name": "stdout",
     "output_type": "stream",
     "text": [
      "mean_accuracy = 0.2727272727272727\n",
      "mean_roc_auc = 0.6921296296296297\n",
      "mean_pr_auc = 0.4920970859772943\n"
     ]
    },
    {
     "data": {
      "application/json": {
       "ascii": false,
       "bar_format": null,
       "colour": null,
       "elapsed": 0.02905750274658203,
       "initial": 0,
       "n": 0,
       "ncols": null,
       "nrows": null,
       "postfix": null,
       "prefix": "Validating",
       "rate": null,
       "total": null,
       "unit": "it",
       "unit_divisor": 1000,
       "unit_scale": false
      },
      "application/vnd.jupyter.widget-view+json": {
       "model_id": "9ce6d9fce5fc4adcb73222af55dbae67",
       "version_major": 2,
       "version_minor": 0
      },
      "text/plain": [
       "Validating: 0it [00:00, ?it/s]"
      ]
     },
     "metadata": {},
     "output_type": "display_data"
    },
    {
     "name": "stdout",
     "output_type": "stream",
     "text": [
      "mean_accuracy = 0.6363636363636364\n",
      "mean_roc_auc = 0.9231770833333334\n",
      "mean_pr_auc = 0.8708581166601467\n"
     ]
    },
    {
     "data": {
      "application/json": {
       "ascii": false,
       "bar_format": null,
       "colour": null,
       "elapsed": 0.03269076347351074,
       "initial": 0,
       "n": 0,
       "ncols": null,
       "nrows": null,
       "postfix": null,
       "prefix": "Validating",
       "rate": null,
       "total": null,
       "unit": "it",
       "unit_divisor": 1000,
       "unit_scale": false
      },
      "application/vnd.jupyter.widget-view+json": {
       "model_id": "f53d5f1c5c51417cb9875209933cad71",
       "version_major": 2,
       "version_minor": 0
      },
      "text/plain": [
       "Validating: 0it [00:00, ?it/s]"
      ]
     },
     "metadata": {},
     "output_type": "display_data"
    },
    {
     "name": "stdout",
     "output_type": "stream",
     "text": [
      "mean_accuracy = 0.7272727272727273\n",
      "mean_roc_auc = 0.9482060185185185\n",
      "mean_pr_auc = 0.8694110287860287\n",
      "Accuracy: 0.7273, ROC AUC: 0.9482, PR AUC: 0.8694, Precision: 0.7777, Recall: 0.7361\n"
     ]
    }
   ],
   "source": [
    "results_multi_layer = []\n",
    "\n",
    "for model_name in train.keys():\n",
    "    print(\"#\"*100)\n",
    "    print(model_name)\n",
    "    print(\"#\"*100)\n",
    "\n",
    "    # Hyperparameters for our network\n",
    "    hidden_sizes = [64, 128]\n",
    "\n",
    "    # Build a feed-forward network\n",
    "    model = nn.Sequential(\n",
    "        nn.Linear(input_sizes[model_name], hidden_sizes[0]),\n",
    "        nn.ReLU(),\n",
    "        nn.Linear(hidden_sizes[0], hidden_sizes[1]),\n",
    "        nn.ReLU(),\n",
    "        nn.Linear(hidden_sizes[1], output_size),\n",
    "    )\n",
    "\n",
    "    model, logger, metrics_m = utils_emb.train_test_linear_classifier(\n",
    "        train[model_name],\n",
    "        test[model_name],\n",
    "        train_wells,\n",
    "        test_wells,\n",
    "        model,\n",
    "        model_name,\n",
    "        batch_size=batch_size,\n",
    "        epochs=epochs,\n",
    "        gpu=device.index,\n",
    "        log_dir=\"./logs\",\n",
    "    )\n",
    "\n",
    "    results_multi_layer.append(metrics_m)"
   ]
  },
  {
   "cell_type": "markdown",
   "metadata": {
    "pycharm": {
     "name": "#%% md\n"
    }
   },
   "source": [
    "# Result aggregation"
   ]
  },
  {
   "cell_type": "code",
   "execution_count": 25,
   "metadata": {
    "pycharm": {
     "name": "#%%\n"
    }
   },
   "outputs": [],
   "source": [
    "models_names = [\n",
    "    \"Siamese Transformer\",\n",
    "    \"Triplet Transformer\",\n",
    "    \"Siamese Informer\",\n",
    "    \"Siamese Performer\"\n",
    "]\n",
    "\n",
    "models_names_1 = [name + \" \" for name in models_names]\n",
    "models_names_2 = [name + \"  \" for name in models_names]"
   ]
  },
  {
   "cell_type": "code",
   "execution_count": 26,
   "metadata": {
    "pycharm": {
     "name": "#%%\n"
    }
   },
   "outputs": [],
   "source": [
    "ans_dict = {\n",
    "    k: v for k, v in zip(models_names, results_xgb)\n",
    "}\n",
    "\n",
    "ans_dict_1 = {\n",
    "    k: v for k, v in zip(models_names_1, results_1_layer)\n",
    "}\n",
    "\n",
    "ans_dict_2 = {\n",
    "    k: v for k, v in zip(models_names_2, results_multi_layer)\n",
    "}\n",
    "\n",
    "ans_dict.update(ans_dict_1)\n",
    "ans_dict.update(ans_dict_2)\n",
    "\n",
    "table = pd.DataFrame(ans_dict)\n",
    "\n",
    "table.rename(\n",
    "    index={\n",
    "        0: \"Accuracy\",\n",
    "        1: \"ROC AUC\",\n",
    "        2: \"PR AUC\",\n",
    "        3: \"Precision\",\n",
    "        4: \"Recall\"\n",
    "    },\n",
    "    inplace=True\n",
    ")\n",
    "\n",
    "table = np.round(table, 3).T\n",
    "classification_model = ['xgb'] * len(models_names) + ['1 linear layer'] * len(models_names) + ['fcnn'] * len(models_names)\n",
    "\n",
    "table['Classificatiom model'] = classification_model\n",
    "table.index.name = 'Model'\n",
    "ans_table = table.iloc[:,[-1, 0, 3, 4, 1, 2,]]\n",
    "ans_table.to_csv('embeddings_quality.csv')"
   ]
  },
  {
   "cell_type": "code",
   "execution_count": 27,
   "metadata": {
    "pycharm": {
     "name": "#%%\n"
    }
   },
   "outputs": [
    {
     "data": {
      "text/html": [
       "<div>\n",
       "<style scoped>\n",
       "    .dataframe tbody tr th:only-of-type {\n",
       "        vertical-align: middle;\n",
       "    }\n",
       "\n",
       "    .dataframe tbody tr th {\n",
       "        vertical-align: top;\n",
       "    }\n",
       "\n",
       "    .dataframe thead th {\n",
       "        text-align: right;\n",
       "    }\n",
       "</style>\n",
       "<table border=\"1\" class=\"dataframe\">\n",
       "  <thead>\n",
       "    <tr style=\"text-align: right;\">\n",
       "      <th></th>\n",
       "      <th>Classificatiom model</th>\n",
       "      <th>Accuracy</th>\n",
       "      <th>Precision</th>\n",
       "      <th>Recall</th>\n",
       "      <th>ROC AUC</th>\n",
       "      <th>PR AUC</th>\n",
       "    </tr>\n",
       "    <tr>\n",
       "      <th>Model</th>\n",
       "      <th></th>\n",
       "      <th></th>\n",
       "      <th></th>\n",
       "      <th></th>\n",
       "      <th></th>\n",
       "      <th></th>\n",
       "    </tr>\n",
       "  </thead>\n",
       "  <tbody>\n",
       "    <tr>\n",
       "      <th>Siamese Transformer</th>\n",
       "      <td>xgb</td>\n",
       "      <td>0.848</td>\n",
       "      <td>0.878</td>\n",
       "      <td>0.844</td>\n",
       "      <td>0.901</td>\n",
       "      <td>0.802</td>\n",
       "    </tr>\n",
       "    <tr>\n",
       "      <th>Triplet Transformer</th>\n",
       "      <td>xgb</td>\n",
       "      <td>0.848</td>\n",
       "      <td>0.849</td>\n",
       "      <td>0.847</td>\n",
       "      <td>0.968</td>\n",
       "      <td>0.934</td>\n",
       "    </tr>\n",
       "    <tr>\n",
       "      <th>Siamese Informer</th>\n",
       "      <td>xgb</td>\n",
       "      <td>0.970</td>\n",
       "      <td>0.975</td>\n",
       "      <td>0.969</td>\n",
       "      <td>0.999</td>\n",
       "      <td>0.997</td>\n",
       "    </tr>\n",
       "    <tr>\n",
       "      <th>Siamese Performer</th>\n",
       "      <td>xgb</td>\n",
       "      <td>0.848</td>\n",
       "      <td>0.869</td>\n",
       "      <td>0.854</td>\n",
       "      <td>0.952</td>\n",
       "      <td>0.901</td>\n",
       "    </tr>\n",
       "    <tr>\n",
       "      <th>Siamese Transformer</th>\n",
       "      <td>1 linear layer</td>\n",
       "      <td>0.273</td>\n",
       "      <td>0.068</td>\n",
       "      <td>0.250</td>\n",
       "      <td>0.667</td>\n",
       "      <td>0.437</td>\n",
       "    </tr>\n",
       "    <tr>\n",
       "      <th>Triplet Transformer</th>\n",
       "      <td>1 linear layer</td>\n",
       "      <td>0.242</td>\n",
       "      <td>0.077</td>\n",
       "      <td>0.222</td>\n",
       "      <td>0.510</td>\n",
       "      <td>0.317</td>\n",
       "    </tr>\n",
       "    <tr>\n",
       "      <th>Siamese Informer</th>\n",
       "      <td>1 linear layer</td>\n",
       "      <td>0.000</td>\n",
       "      <td>0.000</td>\n",
       "      <td>0.000</td>\n",
       "      <td>0.371</td>\n",
       "      <td>0.238</td>\n",
       "    </tr>\n",
       "    <tr>\n",
       "      <th>Siamese Performer</th>\n",
       "      <td>1 linear layer</td>\n",
       "      <td>0.242</td>\n",
       "      <td>0.161</td>\n",
       "      <td>0.247</td>\n",
       "      <td>0.462</td>\n",
       "      <td>0.351</td>\n",
       "    </tr>\n",
       "    <tr>\n",
       "      <th>Siamese Transformer</th>\n",
       "      <td>fcnn</td>\n",
       "      <td>0.273</td>\n",
       "      <td>0.068</td>\n",
       "      <td>0.250</td>\n",
       "      <td>0.850</td>\n",
       "      <td>0.644</td>\n",
       "    </tr>\n",
       "    <tr>\n",
       "      <th>Triplet Transformer</th>\n",
       "      <td>fcnn</td>\n",
       "      <td>0.727</td>\n",
       "      <td>0.618</td>\n",
       "      <td>0.750</td>\n",
       "      <td>0.951</td>\n",
       "      <td>0.900</td>\n",
       "    </tr>\n",
       "    <tr>\n",
       "      <th>Siamese Informer</th>\n",
       "      <td>fcnn</td>\n",
       "      <td>0.485</td>\n",
       "      <td>0.243</td>\n",
       "      <td>0.500</td>\n",
       "      <td>0.889</td>\n",
       "      <td>0.750</td>\n",
       "    </tr>\n",
       "    <tr>\n",
       "      <th>Siamese Performer</th>\n",
       "      <td>fcnn</td>\n",
       "      <td>0.727</td>\n",
       "      <td>0.778</td>\n",
       "      <td>0.736</td>\n",
       "      <td>0.948</td>\n",
       "      <td>0.869</td>\n",
       "    </tr>\n",
       "  </tbody>\n",
       "</table>\n",
       "</div>"
      ],
      "text/plain": [
       "                      Classificatiom model  Accuracy  Precision  Recall  \\\n",
       "Model                                                                     \n",
       "Siamese Transformer                    xgb     0.848      0.878   0.844   \n",
       "Triplet Transformer                    xgb     0.848      0.849   0.847   \n",
       "Siamese Informer                       xgb     0.970      0.975   0.969   \n",
       "Siamese Performer                      xgb     0.848      0.869   0.854   \n",
       "Siamese Transformer         1 linear layer     0.273      0.068   0.250   \n",
       "Triplet Transformer         1 linear layer     0.242      0.077   0.222   \n",
       "Siamese Informer            1 linear layer     0.000      0.000   0.000   \n",
       "Siamese Performer           1 linear layer     0.242      0.161   0.247   \n",
       "Siamese Transformer                   fcnn     0.273      0.068   0.250   \n",
       "Triplet Transformer                   fcnn     0.727      0.618   0.750   \n",
       "Siamese Informer                      fcnn     0.485      0.243   0.500   \n",
       "Siamese Performer                     fcnn     0.727      0.778   0.736   \n",
       "\n",
       "                       ROC AUC  PR AUC  \n",
       "Model                                   \n",
       "Siamese Transformer      0.901   0.802  \n",
       "Triplet Transformer      0.968   0.934  \n",
       "Siamese Informer         0.999   0.997  \n",
       "Siamese Performer        0.952   0.901  \n",
       "Siamese Transformer      0.667   0.437  \n",
       "Triplet Transformer      0.510   0.317  \n",
       "Siamese Informer         0.371   0.238  \n",
       "Siamese Performer        0.462   0.351  \n",
       "Siamese Transformer      0.850   0.644  \n",
       "Triplet Transformer      0.951   0.900  \n",
       "Siamese Informer         0.889   0.750  \n",
       "Siamese Performer        0.948   0.869  "
      ]
     },
     "execution_count": 27,
     "metadata": {},
     "output_type": "execute_result"
    }
   ],
   "source": [
    "ans_table"
   ]
  },
  {
   "cell_type": "code",
   "execution_count": null,
   "metadata": {
    "pycharm": {
     "name": "#%%\n"
    }
   },
   "outputs": [],
   "source": []
  }
 ],
 "metadata": {
  "kernelspec": {
   "display_name": "Python 3",
   "language": "python",
   "name": "python3"
  },
  "language_info": {
   "codemirror_mode": {
    "name": "ipython",
    "version": 3
   },
   "file_extension": ".py",
   "mimetype": "text/x-python",
   "name": "python",
   "nbconvert_exporter": "python",
   "pygments_lexer": "ipython3",
   "version": "3.7.7"
  }
 },
 "nbformat": 4,
 "nbformat_minor": 5
}
