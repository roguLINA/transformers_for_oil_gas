{
 "cells": [
  {
   "cell_type": "code",
   "execution_count": 1,
   "metadata": {
    "pycharm": {
     "is_executing": true,
     "name": "#%%\n"
    }
   },
   "outputs": [],
   "source": [
    "import json\n",
    "import os\n",
    "import warnings\n",
    "\n",
    "import matplotlib.pyplot as plt\n",
    "import pandas as pd\n",
    "import torch\n",
    "\n",
    "warnings.filterwarnings(\"ignore\")\n",
    "\n",
    "\n",
    "from trans_oil_gas import utils_fix_seeds, utils_model, utils_clustering"
   ]
  },
  {
   "cell_type": "markdown",
   "metadata": {
    "pycharm": {
     "name": "#%% md\n"
    }
   },
   "source": [
    "Choose GPU device if it is available."
   ]
  },
  {
   "cell_type": "code",
   "execution_count": 2,
   "metadata": {
    "pycharm": {
     "is_executing": true,
     "name": "#%%\n"
    }
   },
   "outputs": [
    {
     "data": {
      "text/plain": [
       "(device(type='cuda'), [0])"
      ]
     },
     "execution_count": 2,
     "metadata": {},
     "output_type": "execute_result"
    }
   ],
   "source": [
    "device = torch.device('cuda' if torch.cuda.is_available() else 'cpu')\n",
    "gpu = [0] if 'cuda' in device.type else 0\n",
    "device, gpu"
   ]
  },
  {
   "cell_type": "markdown",
   "metadata": {
    "pycharm": {
     "name": "#%% md\n"
    }
   },
   "source": [
    "Fix all possible seeds for results reproducibility."
   ]
  },
  {
   "cell_type": "code",
   "execution_count": 3,
   "metadata": {
    "pycharm": {
     "is_executing": true,
     "name": "#%%\n"
    }
   },
   "outputs": [],
   "source": [
    "utils_fix_seeds.fix_seeds(device=device)"
   ]
  },
  {
   "cell_type": "markdown",
   "metadata": {
    "pycharm": {
     "name": "#%% md\n"
    }
   },
   "source": [
    "# Read data"
   ]
  },
  {
   "cell_type": "markdown",
   "metadata": {
    "pycharm": {
     "name": "#%% md\n"
    }
   },
   "source": [
    "Reading of already preprocessed data (here synthetic dataset with the same columns as in the original one is presented)."
   ]
  },
  {
   "cell_type": "code",
   "execution_count": 4,
   "metadata": {
    "pycharm": {
     "is_executing": true,
     "name": "#%%\n"
    }
   },
   "outputs": [
    {
     "data": {
      "text/html": [
       "<div>\n",
       "<style scoped>\n",
       "    .dataframe tbody tr th:only-of-type {\n",
       "        vertical-align: middle;\n",
       "    }\n",
       "\n",
       "    .dataframe tbody tr th {\n",
       "        vertical-align: top;\n",
       "    }\n",
       "\n",
       "    .dataframe thead th {\n",
       "        text-align: right;\n",
       "    }\n",
       "</style>\n",
       "<table border=\"1\" class=\"dataframe\">\n",
       "  <thead>\n",
       "    <tr style=\"text-align: right;\">\n",
       "      <th></th>\n",
       "      <th>DRHO</th>\n",
       "      <th>DENS</th>\n",
       "      <th>GR</th>\n",
       "      <th>DTC</th>\n",
       "      <th>WELLNAME</th>\n",
       "    </tr>\n",
       "  </thead>\n",
       "  <tbody>\n",
       "    <tr>\n",
       "      <th>0</th>\n",
       "      <td>0.01778</td>\n",
       "      <td>2.3794</td>\n",
       "      <td>1.214982</td>\n",
       "      <td>101.5516</td>\n",
       "      <td>26</td>\n",
       "    </tr>\n",
       "    <tr>\n",
       "      <th>1</th>\n",
       "      <td>0.01701</td>\n",
       "      <td>2.3705</td>\n",
       "      <td>1.086457</td>\n",
       "      <td>101.6722</td>\n",
       "      <td>26</td>\n",
       "    </tr>\n",
       "    <tr>\n",
       "      <th>2</th>\n",
       "      <td>0.01624</td>\n",
       "      <td>2.3615</td>\n",
       "      <td>0.957933</td>\n",
       "      <td>101.7928</td>\n",
       "      <td>26</td>\n",
       "    </tr>\n",
       "    <tr>\n",
       "      <th>3</th>\n",
       "      <td>0.01779</td>\n",
       "      <td>2.3593</td>\n",
       "      <td>0.493992</td>\n",
       "      <td>101.1051</td>\n",
       "      <td>26</td>\n",
       "    </tr>\n",
       "    <tr>\n",
       "      <th>4</th>\n",
       "      <td>0.02008</td>\n",
       "      <td>2.3591</td>\n",
       "      <td>-0.076734</td>\n",
       "      <td>100.1601</td>\n",
       "      <td>26</td>\n",
       "    </tr>\n",
       "    <tr>\n",
       "      <th>...</th>\n",
       "      <td>...</td>\n",
       "      <td>...</td>\n",
       "      <td>...</td>\n",
       "      <td>...</td>\n",
       "      <td>...</td>\n",
       "    </tr>\n",
       "    <tr>\n",
       "      <th>730</th>\n",
       "      <td>0.11269</td>\n",
       "      <td>2.6161</td>\n",
       "      <td>0.742381</td>\n",
       "      <td>92.0410</td>\n",
       "      <td>127</td>\n",
       "    </tr>\n",
       "    <tr>\n",
       "      <th>731</th>\n",
       "      <td>0.11269</td>\n",
       "      <td>2.6161</td>\n",
       "      <td>0.775581</td>\n",
       "      <td>92.1752</td>\n",
       "      <td>127</td>\n",
       "    </tr>\n",
       "    <tr>\n",
       "      <th>732</th>\n",
       "      <td>0.11269</td>\n",
       "      <td>2.6161</td>\n",
       "      <td>0.686798</td>\n",
       "      <td>91.6055</td>\n",
       "      <td>127</td>\n",
       "    </tr>\n",
       "    <tr>\n",
       "      <th>733</th>\n",
       "      <td>0.11269</td>\n",
       "      <td>2.6161</td>\n",
       "      <td>0.614402</td>\n",
       "      <td>91.7522</td>\n",
       "      <td>127</td>\n",
       "    </tr>\n",
       "    <tr>\n",
       "      <th>734</th>\n",
       "      <td>0.11269</td>\n",
       "      <td>2.6161</td>\n",
       "      <td>0.421493</td>\n",
       "      <td>91.9582</td>\n",
       "      <td>127</td>\n",
       "    </tr>\n",
       "  </tbody>\n",
       "</table>\n",
       "<p>735 rows × 5 columns</p>\n",
       "</div>"
      ],
      "text/plain": [
       "        DRHO    DENS        GR       DTC  WELLNAME\n",
       "0    0.01778  2.3794  1.214982  101.5516        26\n",
       "1    0.01701  2.3705  1.086457  101.6722        26\n",
       "2    0.01624  2.3615  0.957933  101.7928        26\n",
       "3    0.01779  2.3593  0.493992  101.1051        26\n",
       "4    0.02008  2.3591 -0.076734  100.1601        26\n",
       "..       ...     ...       ...       ...       ...\n",
       "730  0.11269  2.6161  0.742381   92.0410       127\n",
       "731  0.11269  2.6161  0.775581   92.1752       127\n",
       "732  0.11269  2.6161  0.686798   91.6055       127\n",
       "733  0.11269  2.6161  0.614402   91.7522       127\n",
       "734  0.11269  2.6161  0.421493   91.9582       127\n",
       "\n",
       "[735 rows x 5 columns]"
      ]
     },
     "execution_count": 4,
     "metadata": {},
     "output_type": "execute_result"
    }
   ],
   "source": [
    "df = pd.read_csv('../data/synthetic_well_log_data.csv')\n",
    "df"
   ]
  },
  {
   "cell_type": "markdown",
   "metadata": {
    "pycharm": {
     "name": "#%% md\n"
    }
   },
   "source": [
    "# Load models"
   ]
  },
  {
   "cell_type": "code",
   "execution_count": 5,
   "metadata": {
    "pycharm": {
     "is_executing": true,
     "name": "#%%\n"
    }
   },
   "outputs": [],
   "source": [
    "results_len = 400\n",
    "slice_len = 100\n",
    "input_size = 4\n",
    "n_splits = 2\n",
    "n_times = 2"
   ]
  },
  {
   "cell_type": "code",
   "execution_count": 6,
   "metadata": {
    "pycharm": {
     "is_executing": true,
     "name": "#%%\n"
    }
   },
   "outputs": [],
   "source": [
    "CONFIG = {\n",
    "    \"siamese_rnn\": {\n",
    "        \"input_size\": 4,\n",
    "        \"output_size\": 1,\n",
    "        \"hidden_size\": 16,\n",
    "        \"dropout_prob\": 0.25,\n",
    "    },\n",
    "    \"triplet_rnn\": {\n",
    "        \"input_size\": 4,\n",
    "        \"embedding_size\": 64,\n",
    "    },\n",
    "}"
   ]
  },
  {
   "cell_type": "code",
   "execution_count": 7,
   "metadata": {
    "pycharm": {
     "is_executing": true,
     "name": "#%%\n"
    },
    "scrolled": true
   },
   "outputs": [
    {
     "data": {
      "text/plain": [
       "SiameseArchitecture(\n",
       "  (positional_encoding): PositionalEncoding()\n",
       "  (encoder): TransformerEncoder(\n",
       "    (layers): ModuleList(\n",
       "      (0): EncoderBlock(\n",
       "        (self_attn): MultiheadAttention(\n",
       "          (qkv_proj): Linear(in_features=4, out_features=12, bias=True)\n",
       "          (o_proj): Linear(in_features=4, out_features=4, bias=True)\n",
       "        )\n",
       "        (linear_net): Sequential(\n",
       "          (0): Linear(in_features=4, out_features=2048, bias=True)\n",
       "          (1): Dropout(p=0.48276561038285704, inplace=False)\n",
       "          (2): ReLU(inplace=True)\n",
       "          (3): Linear(in_features=2048, out_features=4, bias=True)\n",
       "        )\n",
       "        (norm1): LayerNorm((4,), eps=1e-05, elementwise_affine=True)\n",
       "        (norm2): LayerNorm((4,), eps=1e-05, elementwise_affine=True)\n",
       "        (dropout): Dropout(p=0.48276561038285704, inplace=False)\n",
       "      )\n",
       "      (1): EncoderBlock(\n",
       "        (self_attn): MultiheadAttention(\n",
       "          (qkv_proj): Linear(in_features=4, out_features=12, bias=True)\n",
       "          (o_proj): Linear(in_features=4, out_features=4, bias=True)\n",
       "        )\n",
       "        (linear_net): Sequential(\n",
       "          (0): Linear(in_features=4, out_features=2048, bias=True)\n",
       "          (1): Dropout(p=0.48276561038285704, inplace=False)\n",
       "          (2): ReLU(inplace=True)\n",
       "          (3): Linear(in_features=2048, out_features=4, bias=True)\n",
       "        )\n",
       "        (norm1): LayerNorm((4,), eps=1e-05, elementwise_affine=True)\n",
       "        (norm2): LayerNorm((4,), eps=1e-05, elementwise_affine=True)\n",
       "        (dropout): Dropout(p=0.48276561038285704, inplace=False)\n",
       "      )\n",
       "      (2): EncoderBlock(\n",
       "        (self_attn): MultiheadAttention(\n",
       "          (qkv_proj): Linear(in_features=4, out_features=12, bias=True)\n",
       "          (o_proj): Linear(in_features=4, out_features=4, bias=True)\n",
       "        )\n",
       "        (linear_net): Sequential(\n",
       "          (0): Linear(in_features=4, out_features=2048, bias=True)\n",
       "          (1): Dropout(p=0.48276561038285704, inplace=False)\n",
       "          (2): ReLU(inplace=True)\n",
       "          (3): Linear(in_features=2048, out_features=4, bias=True)\n",
       "        )\n",
       "        (norm1): LayerNorm((4,), eps=1e-05, elementwise_affine=True)\n",
       "        (norm2): LayerNorm((4,), eps=1e-05, elementwise_affine=True)\n",
       "        (dropout): Dropout(p=0.48276561038285704, inplace=False)\n",
       "      )\n",
       "      (3): EncoderBlock(\n",
       "        (self_attn): MultiheadAttention(\n",
       "          (qkv_proj): Linear(in_features=4, out_features=12, bias=True)\n",
       "          (o_proj): Linear(in_features=4, out_features=4, bias=True)\n",
       "        )\n",
       "        (linear_net): Sequential(\n",
       "          (0): Linear(in_features=4, out_features=2048, bias=True)\n",
       "          (1): Dropout(p=0.48276561038285704, inplace=False)\n",
       "          (2): ReLU(inplace=True)\n",
       "          (3): Linear(in_features=2048, out_features=4, bias=True)\n",
       "        )\n",
       "        (norm1): LayerNorm((4,), eps=1e-05, elementwise_affine=True)\n",
       "        (norm2): LayerNorm((4,), eps=1e-05, elementwise_affine=True)\n",
       "        (dropout): Dropout(p=0.48276561038285704, inplace=False)\n",
       "      )\n",
       "      (4): EncoderBlock(\n",
       "        (self_attn): MultiheadAttention(\n",
       "          (qkv_proj): Linear(in_features=4, out_features=12, bias=True)\n",
       "          (o_proj): Linear(in_features=4, out_features=4, bias=True)\n",
       "        )\n",
       "        (linear_net): Sequential(\n",
       "          (0): Linear(in_features=4, out_features=2048, bias=True)\n",
       "          (1): Dropout(p=0.48276561038285704, inplace=False)\n",
       "          (2): ReLU(inplace=True)\n",
       "          (3): Linear(in_features=2048, out_features=4, bias=True)\n",
       "        )\n",
       "        (norm1): LayerNorm((4,), eps=1e-05, elementwise_affine=True)\n",
       "        (norm2): LayerNorm((4,), eps=1e-05, elementwise_affine=True)\n",
       "        (dropout): Dropout(p=0.48276561038285704, inplace=False)\n",
       "      )\n",
       "    )\n",
       "  )\n",
       "  (embed_layer): Sequential(\n",
       "    (0): Flatten(start_dim=1, end_dim=-1)\n",
       "    (1): Linear(in_features=400, out_features=128, bias=True)\n",
       "  )\n",
       "  (fc): Sequential(\n",
       "    (0): Linear(in_features=256, out_features=128, bias=True)\n",
       "    (1): ReLU()\n",
       "    (2): Dropout(p=0.48276561038285704, inplace=False)\n",
       "    (3): Linear(in_features=128, out_features=128, bias=True)\n",
       "    (4): ReLU()\n",
       "    (5): Dropout(p=0.48276561038285704, inplace=False)\n",
       "    (6): Linear(in_features=128, out_features=1, bias=True)\n",
       "  )\n",
       "  (tfm): Sigmoid()\n",
       ")"
      ]
     },
     "execution_count": 7,
     "metadata": {},
     "output_type": "execute_result"
    }
   ],
   "source": [
    "fixed_params_tr = {\n",
    "    \"d_model\": 4,\n",
    "}\n",
    "with open(os.path.join(\"./saves/\", \"best_params_siamese_transformer.json\"), \"r\") as f:\n",
    "    best_params_tr_s = json.load(f)\n",
    "best_params_tr_s[\"fc_hidden_size\"] = best_params_tr_s[\"hidden_size\"]\n",
    "\n",
    "transformer_siamese = utils_model.SiameseArchitecture(encoder_type=\"transformer\", **fixed_params_tr, **best_params_tr_s).float()\n",
    "PATH = \"./saves/best_siamese_transformer.pth\"\n",
    "transformer_siamese.load_state_dict(torch.load(PATH, map_location=device))\n",
    "transformer_siamese.eval()"
   ]
  },
  {
   "cell_type": "code",
   "execution_count": 8,
   "metadata": {
    "pycharm": {
     "is_executing": true,
     "name": "#%%\n"
    },
    "scrolled": true
   },
   "outputs": [
    {
     "data": {
      "text/plain": [
       "TripletArchitecture(\n",
       "  (positional_encoding): PositionalEncoding()\n",
       "  (encoder): TransformerEncoder(\n",
       "    (layers): ModuleList(\n",
       "      (0): EncoderBlock(\n",
       "        (self_attn): MultiheadAttention(\n",
       "          (qkv_proj): Linear(in_features=4, out_features=12, bias=True)\n",
       "          (o_proj): Linear(in_features=4, out_features=4, bias=True)\n",
       "        )\n",
       "        (linear_net): Sequential(\n",
       "          (0): Linear(in_features=4, out_features=1280, bias=True)\n",
       "          (1): Dropout(p=0.25339714884646625, inplace=False)\n",
       "          (2): ReLU(inplace=True)\n",
       "          (3): Linear(in_features=1280, out_features=4, bias=True)\n",
       "        )\n",
       "        (norm1): LayerNorm((4,), eps=1e-05, elementwise_affine=True)\n",
       "        (norm2): LayerNorm((4,), eps=1e-05, elementwise_affine=True)\n",
       "        (dropout): Dropout(p=0.25339714884646625, inplace=False)\n",
       "      )\n",
       "      (1): EncoderBlock(\n",
       "        (self_attn): MultiheadAttention(\n",
       "          (qkv_proj): Linear(in_features=4, out_features=12, bias=True)\n",
       "          (o_proj): Linear(in_features=4, out_features=4, bias=True)\n",
       "        )\n",
       "        (linear_net): Sequential(\n",
       "          (0): Linear(in_features=4, out_features=1280, bias=True)\n",
       "          (1): Dropout(p=0.25339714884646625, inplace=False)\n",
       "          (2): ReLU(inplace=True)\n",
       "          (3): Linear(in_features=1280, out_features=4, bias=True)\n",
       "        )\n",
       "        (norm1): LayerNorm((4,), eps=1e-05, elementwise_affine=True)\n",
       "        (norm2): LayerNorm((4,), eps=1e-05, elementwise_affine=True)\n",
       "        (dropout): Dropout(p=0.25339714884646625, inplace=False)\n",
       "      )\n",
       "      (2): EncoderBlock(\n",
       "        (self_attn): MultiheadAttention(\n",
       "          (qkv_proj): Linear(in_features=4, out_features=12, bias=True)\n",
       "          (o_proj): Linear(in_features=4, out_features=4, bias=True)\n",
       "        )\n",
       "        (linear_net): Sequential(\n",
       "          (0): Linear(in_features=4, out_features=1280, bias=True)\n",
       "          (1): Dropout(p=0.25339714884646625, inplace=False)\n",
       "          (2): ReLU(inplace=True)\n",
       "          (3): Linear(in_features=1280, out_features=4, bias=True)\n",
       "        )\n",
       "        (norm1): LayerNorm((4,), eps=1e-05, elementwise_affine=True)\n",
       "        (norm2): LayerNorm((4,), eps=1e-05, elementwise_affine=True)\n",
       "        (dropout): Dropout(p=0.25339714884646625, inplace=False)\n",
       "      )\n",
       "    )\n",
       "  )\n",
       "  (embed_layer): Sequential(\n",
       "    (0): Flatten(start_dim=1, end_dim=-1)\n",
       "    (1): Linear(in_features=400, out_features=128, bias=True)\n",
       "  )\n",
       ")"
      ]
     },
     "execution_count": 8,
     "metadata": {},
     "output_type": "execute_result"
    }
   ],
   "source": [
    "with open(os.path.join(\"./saves/\", \"best_params_triplet_transformer.json\"), \"r\") as f:\n",
    "    best_params_tr_t = json.load(f)\n",
    "\n",
    "transformer_triplet = utils_model.TripletArchitecture(encoder_type=\"transformer\", **fixed_params_tr, **best_params_tr_t).float()\n",
    "PATH = \"./saves/best_triplet_transformer.pth\"\n",
    "transformer_triplet.load_state_dict(torch.load(PATH, map_location=device))\n",
    "transformer_triplet.eval()"
   ]
  },
  {
   "cell_type": "code",
   "execution_count": 9,
   "metadata": {
    "pycharm": {
     "is_executing": true,
     "name": "#%%\n"
    },
    "scrolled": true
   },
   "outputs": [
    {
     "data": {
      "text/plain": [
       "SiameseArchitecture(\n",
       "  (encoder): InformerEncoder(\n",
       "    (enc_embedding): DataEmbedding(\n",
       "      (value_embedding): TokenEmbedding(\n",
       "        (tokenConv): Conv1d(4, 64, kernel_size=(3,), stride=(1,), padding=(1,), padding_mode=circular)\n",
       "      )\n",
       "      (position_embedding): PositionalEmbedding()\n",
       "      (dropout): Dropout(p=0.22941928520960575, inplace=False)\n",
       "    )\n",
       "    (encoder): Encoder(\n",
       "      (attn_layers): ModuleList(\n",
       "        (0): EncoderLayer(\n",
       "          (attention): AttentionLayer(\n",
       "            (inner_attention): ProbAttention(\n",
       "              (dropout): Dropout(p=0.22941928520960575, inplace=False)\n",
       "            )\n",
       "            (query_projection): Linear(in_features=64, out_features=64, bias=True)\n",
       "            (key_projection): Linear(in_features=64, out_features=64, bias=True)\n",
       "            (value_projection): Linear(in_features=64, out_features=64, bias=True)\n",
       "            (out_projection): Linear(in_features=64, out_features=64, bias=True)\n",
       "          )\n",
       "          (conv1): Conv1d(64, 128, kernel_size=(1,), stride=(1,))\n",
       "          (conv2): Conv1d(128, 64, kernel_size=(1,), stride=(1,))\n",
       "          (norm1): LayerNorm((64,), eps=1e-05, elementwise_affine=True)\n",
       "          (norm2): LayerNorm((64,), eps=1e-05, elementwise_affine=True)\n",
       "          (dropout): Dropout(p=0.22941928520960575, inplace=False)\n",
       "        )\n",
       "        (1): EncoderLayer(\n",
       "          (attention): AttentionLayer(\n",
       "            (inner_attention): ProbAttention(\n",
       "              (dropout): Dropout(p=0.22941928520960575, inplace=False)\n",
       "            )\n",
       "            (query_projection): Linear(in_features=64, out_features=64, bias=True)\n",
       "            (key_projection): Linear(in_features=64, out_features=64, bias=True)\n",
       "            (value_projection): Linear(in_features=64, out_features=64, bias=True)\n",
       "            (out_projection): Linear(in_features=64, out_features=64, bias=True)\n",
       "          )\n",
       "          (conv1): Conv1d(64, 128, kernel_size=(1,), stride=(1,))\n",
       "          (conv2): Conv1d(128, 64, kernel_size=(1,), stride=(1,))\n",
       "          (norm1): LayerNorm((64,), eps=1e-05, elementwise_affine=True)\n",
       "          (norm2): LayerNorm((64,), eps=1e-05, elementwise_affine=True)\n",
       "          (dropout): Dropout(p=0.22941928520960575, inplace=False)\n",
       "        )\n",
       "      )\n",
       "      (norm): LayerNorm((64,), eps=1e-05, elementwise_affine=True)\n",
       "    )\n",
       "  )\n",
       "  (embed_layer): Sequential(\n",
       "    (0): Flatten(start_dim=1, end_dim=-1)\n",
       "    (1): Linear(in_features=6400, out_features=64, bias=True)\n",
       "  )\n",
       "  (fc): Sequential(\n",
       "    (0): Linear(in_features=128, out_features=64, bias=True)\n",
       "    (1): ReLU()\n",
       "    (2): Dropout(p=0.22941928520960575, inplace=False)\n",
       "    (3): Linear(in_features=64, out_features=64, bias=True)\n",
       "    (4): ReLU()\n",
       "    (5): Dropout(p=0.22941928520960575, inplace=False)\n",
       "    (6): Linear(in_features=64, out_features=1, bias=True)\n",
       "  )\n",
       "  (tfm): Sigmoid()\n",
       ")"
      ]
     },
     "execution_count": 9,
     "metadata": {},
     "output_type": "execute_result"
    }
   ],
   "source": [
    "fixed_params_inf = {\n",
    "    \"enc_in\": 4,\n",
    "    \"distil\": None,\n",
    "    \"device\": device,\n",
    "    \"attn\": \"prob\",\n",
    "    \"activation\": \"gelu\",\n",
    "    \"output_attention\": False,\n",
    "    \"n_seq\": 100\n",
    "}\n",
    "with open(os.path.join(\"./saves/\", \"best_params_siamese_informer.json\"), \"r\") as f:\n",
    "    best_params_inf_s = json.load(f)\n",
    "best_params_inf_s[\"fc_hidden_size\"] = 64\n",
    "\n",
    "informer_siamese = utils_model.SiameseArchitecture(encoder_type=\"informer\", **fixed_params_inf, **best_params_inf_s).float()\n",
    "PATH = \"./saves/best_siamese_informer.pth\"\n",
    "informer_siamese.load_state_dict(torch.load(PATH, map_location=device))\n",
    "informer_siamese.eval()"
   ]
  },
  {
   "cell_type": "code",
   "execution_count": 10,
   "metadata": {
    "pycharm": {
     "is_executing": true,
     "name": "#%%\n"
    },
    "scrolled": true
   },
   "outputs": [
    {
     "data": {
      "text/plain": [
       "TripletArchitecture(\n",
       "  (encoder): InformerEncoder(\n",
       "    (enc_embedding): DataEmbedding(\n",
       "      (value_embedding): TokenEmbedding(\n",
       "        (tokenConv): Conv1d(4, 64, kernel_size=(3,), stride=(1,), padding=(1,), padding_mode=circular)\n",
       "      )\n",
       "      (position_embedding): PositionalEmbedding()\n",
       "      (dropout): Dropout(p=0.4264759660819143, inplace=False)\n",
       "    )\n",
       "    (encoder): Encoder(\n",
       "      (attn_layers): ModuleList(\n",
       "        (0): EncoderLayer(\n",
       "          (attention): AttentionLayer(\n",
       "            (inner_attention): ProbAttention(\n",
       "              (dropout): Dropout(p=0.4264759660819143, inplace=False)\n",
       "            )\n",
       "            (query_projection): Linear(in_features=64, out_features=64, bias=True)\n",
       "            (key_projection): Linear(in_features=64, out_features=64, bias=True)\n",
       "            (value_projection): Linear(in_features=64, out_features=64, bias=True)\n",
       "            (out_projection): Linear(in_features=64, out_features=64, bias=True)\n",
       "          )\n",
       "          (conv1): Conv1d(64, 1024, kernel_size=(1,), stride=(1,))\n",
       "          (conv2): Conv1d(1024, 64, kernel_size=(1,), stride=(1,))\n",
       "          (norm1): LayerNorm((64,), eps=1e-05, elementwise_affine=True)\n",
       "          (norm2): LayerNorm((64,), eps=1e-05, elementwise_affine=True)\n",
       "          (dropout): Dropout(p=0.4264759660819143, inplace=False)\n",
       "        )\n",
       "        (1): EncoderLayer(\n",
       "          (attention): AttentionLayer(\n",
       "            (inner_attention): ProbAttention(\n",
       "              (dropout): Dropout(p=0.4264759660819143, inplace=False)\n",
       "            )\n",
       "            (query_projection): Linear(in_features=64, out_features=64, bias=True)\n",
       "            (key_projection): Linear(in_features=64, out_features=64, bias=True)\n",
       "            (value_projection): Linear(in_features=64, out_features=64, bias=True)\n",
       "            (out_projection): Linear(in_features=64, out_features=64, bias=True)\n",
       "          )\n",
       "          (conv1): Conv1d(64, 1024, kernel_size=(1,), stride=(1,))\n",
       "          (conv2): Conv1d(1024, 64, kernel_size=(1,), stride=(1,))\n",
       "          (norm1): LayerNorm((64,), eps=1e-05, elementwise_affine=True)\n",
       "          (norm2): LayerNorm((64,), eps=1e-05, elementwise_affine=True)\n",
       "          (dropout): Dropout(p=0.4264759660819143, inplace=False)\n",
       "        )\n",
       "        (2): EncoderLayer(\n",
       "          (attention): AttentionLayer(\n",
       "            (inner_attention): ProbAttention(\n",
       "              (dropout): Dropout(p=0.4264759660819143, inplace=False)\n",
       "            )\n",
       "            (query_projection): Linear(in_features=64, out_features=64, bias=True)\n",
       "            (key_projection): Linear(in_features=64, out_features=64, bias=True)\n",
       "            (value_projection): Linear(in_features=64, out_features=64, bias=True)\n",
       "            (out_projection): Linear(in_features=64, out_features=64, bias=True)\n",
       "          )\n",
       "          (conv1): Conv1d(64, 1024, kernel_size=(1,), stride=(1,))\n",
       "          (conv2): Conv1d(1024, 64, kernel_size=(1,), stride=(1,))\n",
       "          (norm1): LayerNorm((64,), eps=1e-05, elementwise_affine=True)\n",
       "          (norm2): LayerNorm((64,), eps=1e-05, elementwise_affine=True)\n",
       "          (dropout): Dropout(p=0.4264759660819143, inplace=False)\n",
       "        )\n",
       "        (3): EncoderLayer(\n",
       "          (attention): AttentionLayer(\n",
       "            (inner_attention): ProbAttention(\n",
       "              (dropout): Dropout(p=0.4264759660819143, inplace=False)\n",
       "            )\n",
       "            (query_projection): Linear(in_features=64, out_features=64, bias=True)\n",
       "            (key_projection): Linear(in_features=64, out_features=64, bias=True)\n",
       "            (value_projection): Linear(in_features=64, out_features=64, bias=True)\n",
       "            (out_projection): Linear(in_features=64, out_features=64, bias=True)\n",
       "          )\n",
       "          (conv1): Conv1d(64, 1024, kernel_size=(1,), stride=(1,))\n",
       "          (conv2): Conv1d(1024, 64, kernel_size=(1,), stride=(1,))\n",
       "          (norm1): LayerNorm((64,), eps=1e-05, elementwise_affine=True)\n",
       "          (norm2): LayerNorm((64,), eps=1e-05, elementwise_affine=True)\n",
       "          (dropout): Dropout(p=0.4264759660819143, inplace=False)\n",
       "        )\n",
       "        (4): EncoderLayer(\n",
       "          (attention): AttentionLayer(\n",
       "            (inner_attention): ProbAttention(\n",
       "              (dropout): Dropout(p=0.4264759660819143, inplace=False)\n",
       "            )\n",
       "            (query_projection): Linear(in_features=64, out_features=64, bias=True)\n",
       "            (key_projection): Linear(in_features=64, out_features=64, bias=True)\n",
       "            (value_projection): Linear(in_features=64, out_features=64, bias=True)\n",
       "            (out_projection): Linear(in_features=64, out_features=64, bias=True)\n",
       "          )\n",
       "          (conv1): Conv1d(64, 1024, kernel_size=(1,), stride=(1,))\n",
       "          (conv2): Conv1d(1024, 64, kernel_size=(1,), stride=(1,))\n",
       "          (norm1): LayerNorm((64,), eps=1e-05, elementwise_affine=True)\n",
       "          (norm2): LayerNorm((64,), eps=1e-05, elementwise_affine=True)\n",
       "          (dropout): Dropout(p=0.4264759660819143, inplace=False)\n",
       "        )\n",
       "      )\n",
       "      (norm): LayerNorm((64,), eps=1e-05, elementwise_affine=True)\n",
       "    )\n",
       "  )\n",
       "  (embed_layer): Sequential(\n",
       "    (0): Flatten(start_dim=1, end_dim=-1)\n",
       "    (1): Linear(in_features=6400, out_features=64, bias=True)\n",
       "  )\n",
       ")"
      ]
     },
     "execution_count": 10,
     "metadata": {},
     "output_type": "execute_result"
    }
   ],
   "source": [
    "with open(os.path.join(\"./saves/\", \"best_params_triplet_informer.json\"), \"r\") as f:\n",
    "    best_params_inf_t = json.load(f)\n",
    "\n",
    "informer_triplet = utils_model.TripletArchitecture(encoder_type=\"informer\", **fixed_params_inf, **best_params_inf_t).float()\n",
    "PATH = \"./saves/best_triplet_informer.pth\"\n",
    "informer_triplet.load_state_dict(torch.load(PATH, map_location=device))\n",
    "informer_triplet.eval()"
   ]
  },
  {
   "cell_type": "code",
   "execution_count": 11,
   "metadata": {
    "pycharm": {
     "is_executing": true,
     "name": "#%%\n"
    },
    "scrolled": true
   },
   "outputs": [
    {
     "data": {
      "text/plain": [
       "SiameseArchitecture(\n",
       "  (encoder): PerformerEncoder(\n",
       "    (multi_head_attention): MultiHeadFAVORAttention(\n",
       "      (w_q): Linear(in_features=4, out_features=4, bias=True)\n",
       "      (w_k): Linear(in_features=4, out_features=4, bias=True)\n",
       "      (w_v): Linear(in_features=4, out_features=4, bias=True)\n",
       "      (w_o): Linear(in_features=4, out_features=4, bias=True)\n",
       "      (dropout): Dropout(p=0.1, inplace=False)\n",
       "    )\n",
       "    (residual_1): ResidualConnection(\n",
       "      (norm): LayerNorm()\n",
       "      (dropout): Dropout(p=0.4758865356491505, inplace=False)\n",
       "    )\n",
       "    (feed_forward): FeedForward(\n",
       "      (w_1): Linear(in_features=4, out_features=16, bias=True)\n",
       "      (w_2): Linear(in_features=16, out_features=4, bias=True)\n",
       "      (dropout): Dropout(p=0.1, inplace=False)\n",
       "    )\n",
       "    (residual_2): ResidualConnection(\n",
       "      (norm): LayerNorm()\n",
       "      (dropout): Dropout(p=0.4758865356491505, inplace=False)\n",
       "    )\n",
       "  )\n",
       "  (embed_layer): Sequential(\n",
       "    (0): Flatten(start_dim=1, end_dim=-1)\n",
       "    (1): Linear(in_features=400, out_features=4, bias=True)\n",
       "  )\n",
       "  (fc): Sequential(\n",
       "    (0): Linear(in_features=8, out_features=16, bias=True)\n",
       "    (1): ReLU()\n",
       "    (2): Dropout(p=0.4758865356491505, inplace=False)\n",
       "    (3): Linear(in_features=16, out_features=16, bias=True)\n",
       "    (4): ReLU()\n",
       "    (5): Dropout(p=0.4758865356491505, inplace=False)\n",
       "    (6): Linear(in_features=16, out_features=1, bias=True)\n",
       "  )\n",
       "  (tfm): Sigmoid()\n",
       ")"
      ]
     },
     "execution_count": 11,
     "metadata": {},
     "output_type": "execute_result"
    }
   ],
   "source": [
    "fixed_params_perf = {\n",
    "    \"dim\": 4,\n",
    "    \"device\": \"cpu\",\n",
    "    \"use_relu_kernel\": False,\n",
    "    \"n_seq\": 100\n",
    "}\n",
    "with open(os.path.join(\"./saves/\", \"best_params_siamese_performer.json\"), \"r\") as f:\n",
    "    best_params_perf_s = json.load(f)\n",
    "best_params_perf_s[\"fc_hidden_size\"] = 16\n",
    "\n",
    "performer_siamese = utils_model.SiameseArchitecture(encoder_type=\"performer\", **fixed_params_perf, **best_params_perf_s).float()\n",
    "PATH = \"./saves/best_siamese_performer.pth\"\n",
    "performer_siamese.load_state_dict(torch.load(PATH, map_location=device))\n",
    "performer_siamese.eval()"
   ]
  },
  {
   "cell_type": "code",
   "execution_count": 12,
   "metadata": {
    "pycharm": {
     "is_executing": true,
     "name": "#%%\n"
    },
    "scrolled": true
   },
   "outputs": [
    {
     "data": {
      "text/plain": [
       "TripletArchitecture(\n",
       "  (encoder): PerformerEncoder(\n",
       "    (multi_head_attention): MultiHeadFAVORAttention(\n",
       "      (w_q): Linear(in_features=4, out_features=4, bias=True)\n",
       "      (w_k): Linear(in_features=4, out_features=4, bias=True)\n",
       "      (w_v): Linear(in_features=4, out_features=4, bias=True)\n",
       "      (w_o): Linear(in_features=4, out_features=4, bias=True)\n",
       "      (dropout): Dropout(p=0.1, inplace=False)\n",
       "    )\n",
       "    (residual_1): ResidualConnection(\n",
       "      (norm): LayerNorm()\n",
       "      (dropout): Dropout(p=0.8062925554266286, inplace=False)\n",
       "    )\n",
       "    (feed_forward): FeedForward(\n",
       "      (w_1): Linear(in_features=4, out_features=16, bias=True)\n",
       "      (w_2): Linear(in_features=16, out_features=4, bias=True)\n",
       "      (dropout): Dropout(p=0.1, inplace=False)\n",
       "    )\n",
       "    (residual_2): ResidualConnection(\n",
       "      (norm): LayerNorm()\n",
       "      (dropout): Dropout(p=0.8062925554266286, inplace=False)\n",
       "    )\n",
       "  )\n",
       "  (embed_layer): Sequential(\n",
       "    (0): Flatten(start_dim=1, end_dim=-1)\n",
       "    (1): Linear(in_features=400, out_features=4, bias=True)\n",
       "  )\n",
       ")"
      ]
     },
     "execution_count": 12,
     "metadata": {},
     "output_type": "execute_result"
    }
   ],
   "source": [
    "with open(os.path.join(\"./saves/\", \"best_params_triplet_performer.json\"), \"r\") as f:\n",
    "    best_params_perf_t = json.load(f)\n",
    "\n",
    "performer_triplet = utils_model.TripletArchitecture(encoder_type=\"performer\", **fixed_params_perf, **best_params_perf_t).float()\n",
    "PATH = \"./saves/best_triplet_performer.pth\" # \"../saves/best_triplet_performer.pth\"\n",
    "performer_triplet.load_state_dict(torch.load(PATH, map_location=device))\n",
    "performer_triplet.eval()"
   ]
  },
  {
   "cell_type": "markdown",
   "metadata": {
    "pycharm": {
     "name": "#%% md\n"
    }
   },
   "source": [
    "# Clustering"
   ]
  },
  {
   "cell_type": "code",
   "execution_count": 13,
   "metadata": {
    "pycharm": {
     "is_executing": true,
     "name": "#%%\n"
    },
    "scrolled": true
   },
   "outputs": [
    {
     "name": "stdout",
     "output_type": "stream",
     "text": [
      "siamese_transformer\n"
     ]
    },
    {
     "name": "stderr",
     "output_type": "stream",
     "text": [
      "400it [02:07,  3.13it/s]\n"
     ]
    },
    {
     "name": "stdout",
     "output_type": "stream",
     "text": [
      "ARI = 0.269 ± 0.0\n"
     ]
    },
    {
     "name": "stderr",
     "output_type": "stream",
     "text": [
      "400it [02:11,  3.05it/s]\n"
     ]
    },
    {
     "name": "stdout",
     "output_type": "stream",
     "text": [
      "ARI = 1.0 ± 0.0\n",
      "triplet_transformer\n"
     ]
    },
    {
     "name": "stderr",
     "output_type": "stream",
     "text": [
      "400it [01:17,  5.13it/s]\n"
     ]
    },
    {
     "name": "stdout",
     "output_type": "stream",
     "text": [
      "ARI = 1.0 ± 0.0\n"
     ]
    },
    {
     "name": "stderr",
     "output_type": "stream",
     "text": [
      "400it [01:17,  5.16it/s]\n"
     ]
    },
    {
     "name": "stdout",
     "output_type": "stream",
     "text": [
      "ARI = 1.0 ± 0.0\n",
      "siamese_informer\n"
     ]
    },
    {
     "name": "stderr",
     "output_type": "stream",
     "text": [
      "400it [01:59,  3.34it/s]\n"
     ]
    },
    {
     "name": "stdout",
     "output_type": "stream",
     "text": [
      "ARI = 1.0 ± 0.0\n"
     ]
    },
    {
     "name": "stderr",
     "output_type": "stream",
     "text": [
      "400it [01:57,  3.41it/s]\n"
     ]
    },
    {
     "name": "stdout",
     "output_type": "stream",
     "text": [
      "ARI = 1.0 ± 0.0\n",
      "triplet_informer\n"
     ]
    },
    {
     "name": "stderr",
     "output_type": "stream",
     "text": [
      "400it [05:24,  1.23it/s]\n"
     ]
    },
    {
     "name": "stdout",
     "output_type": "stream",
     "text": [
      "ARI = 1.0 ± 0.0\n"
     ]
    },
    {
     "name": "stderr",
     "output_type": "stream",
     "text": [
      "400it [06:01,  1.11it/s]\n"
     ]
    },
    {
     "name": "stdout",
     "output_type": "stream",
     "text": [
      "ARI = 1.0 ± 0.0\n",
      "siamese_performer\n"
     ]
    },
    {
     "name": "stderr",
     "output_type": "stream",
     "text": [
      "400it [00:14, 26.98it/s]\n"
     ]
    },
    {
     "name": "stdout",
     "output_type": "stream",
     "text": [
      "ARI = 1.0 ± 0.0\n"
     ]
    },
    {
     "name": "stderr",
     "output_type": "stream",
     "text": [
      "400it [00:07, 55.64it/s]\n"
     ]
    },
    {
     "name": "stdout",
     "output_type": "stream",
     "text": [
      "ARI = 1.0 ± 0.0\n",
      "triplet_performer\n"
     ]
    },
    {
     "name": "stderr",
     "output_type": "stream",
     "text": [
      "400it [00:07, 56.53it/s]\n"
     ]
    },
    {
     "name": "stdout",
     "output_type": "stream",
     "text": [
      "ARI = 1.0 ± 0.0\n"
     ]
    },
    {
     "name": "stderr",
     "output_type": "stream",
     "text": [
      "400it [00:07, 54.06it/s]\n"
     ]
    },
    {
     "name": "stdout",
     "output_type": "stream",
     "text": [
      "ARI = 1.0 ± 0.0\n"
     ]
    }
   ],
   "source": [
    "ari = dict()\n",
    "for model, model_type in zip(\n",
    "    [\n",
    "        transformer_siamese, \n",
    "        transformer_triplet, \n",
    "        informer_siamese,\n",
    "        informer_triplet, \n",
    "        performer_siamese, \n",
    "        performer_triplet\n",
    "    ],\n",
    "    [\n",
    "        'siamese_transformer', \n",
    "        'triplet_transformer', \n",
    "        'siamese_informer', \n",
    "        'triplet_informer', \n",
    "        'siamese_performer', \n",
    "        'triplet_performer'\n",
    "    ]\n",
    "):\n",
    "    print(model_type)\n",
    "    metrics = utils_clustering.emb_clustering_wells(\n",
    "        model,\n",
    "        df,\n",
    "        slice_len=slice_len,\n",
    "        n_splits=n_splits, \n",
    "        results_len_test=results_len,\n",
    "        n_times=n_times,\n",
    "        path_to_saves=\"./saves\",\n",
    "    )\n",
    "    ari[model_type] = (metrics.mean(), metrics.std())"
   ]
  },
  {
   "cell_type": "markdown",
   "metadata": {
    "pycharm": {
     "name": "#%% md\n"
    }
   },
   "source": [
    "# Results' aggregation"
   ]
  },
  {
   "cell_type": "code",
   "execution_count": 14,
   "metadata": {
    "pycharm": {
     "is_executing": true,
     "name": "#%%\n"
    }
   },
   "outputs": [],
   "source": [
    "ans_df = pd.DataFrame(ari, index=['mean', 'std']).T\n",
    "ans_df['mean ± std'] = [\n",
    "    str(round(ans_df.iloc[i]['mean'], 3)) + ' $\\pm$ ' + str(round(ans_df.iloc[i]['std'], 3)) for i in range(len(ans_df))\n",
    "]\n",
    "ans_df[['mean ± std']].to_csv('clustering.csv')"
   ]
  },
  {
   "cell_type": "code",
   "execution_count": 15,
   "metadata": {
    "pycharm": {
     "is_executing": true,
     "name": "#%%\n"
    }
   },
   "outputs": [
    {
     "data": {
      "text/html": [
       "<div>\n",
       "<style scoped>\n",
       "    .dataframe tbody tr th:only-of-type {\n",
       "        vertical-align: middle;\n",
       "    }\n",
       "\n",
       "    .dataframe tbody tr th {\n",
       "        vertical-align: top;\n",
       "    }\n",
       "\n",
       "    .dataframe thead th {\n",
       "        text-align: right;\n",
       "    }\n",
       "</style>\n",
       "<table border=\"1\" class=\"dataframe\">\n",
       "  <thead>\n",
       "    <tr style=\"text-align: right;\">\n",
       "      <th></th>\n",
       "      <th>mean</th>\n",
       "      <th>std</th>\n",
       "      <th>mean ± std</th>\n",
       "    </tr>\n",
       "  </thead>\n",
       "  <tbody>\n",
       "    <tr>\n",
       "      <th>siamese_transformer</th>\n",
       "      <td>0.6345</td>\n",
       "      <td>0.3655</td>\n",
       "      <td>0.635 $\\pm$ 0.366</td>\n",
       "    </tr>\n",
       "    <tr>\n",
       "      <th>triplet_transformer</th>\n",
       "      <td>1.0000</td>\n",
       "      <td>0.0000</td>\n",
       "      <td>1.0 $\\pm$ 0.0</td>\n",
       "    </tr>\n",
       "    <tr>\n",
       "      <th>siamese_informer</th>\n",
       "      <td>1.0000</td>\n",
       "      <td>0.0000</td>\n",
       "      <td>1.0 $\\pm$ 0.0</td>\n",
       "    </tr>\n",
       "    <tr>\n",
       "      <th>triplet_informer</th>\n",
       "      <td>1.0000</td>\n",
       "      <td>0.0000</td>\n",
       "      <td>1.0 $\\pm$ 0.0</td>\n",
       "    </tr>\n",
       "    <tr>\n",
       "      <th>siamese_performer</th>\n",
       "      <td>1.0000</td>\n",
       "      <td>0.0000</td>\n",
       "      <td>1.0 $\\pm$ 0.0</td>\n",
       "    </tr>\n",
       "    <tr>\n",
       "      <th>triplet_performer</th>\n",
       "      <td>1.0000</td>\n",
       "      <td>0.0000</td>\n",
       "      <td>1.0 $\\pm$ 0.0</td>\n",
       "    </tr>\n",
       "  </tbody>\n",
       "</table>\n",
       "</div>"
      ],
      "text/plain": [
       "                       mean     std         mean ± std\n",
       "siamese_transformer  0.6345  0.3655  0.635 $\\pm$ 0.366\n",
       "triplet_transformer  1.0000  0.0000      1.0 $\\pm$ 0.0\n",
       "siamese_informer     1.0000  0.0000      1.0 $\\pm$ 0.0\n",
       "triplet_informer     1.0000  0.0000      1.0 $\\pm$ 0.0\n",
       "siamese_performer    1.0000  0.0000      1.0 $\\pm$ 0.0\n",
       "triplet_performer    1.0000  0.0000      1.0 $\\pm$ 0.0"
      ]
     },
     "execution_count": 15,
     "metadata": {},
     "output_type": "execute_result"
    }
   ],
   "source": [
    "ans_df"
   ]
  },
  {
   "cell_type": "code",
   "execution_count": null,
   "metadata": {
    "pycharm": {
     "name": "#%%\n"
    }
   },
   "outputs": [],
   "source": []
  }
 ],
 "metadata": {
  "kernelspec": {
   "display_name": "Python 3",
   "language": "python",
   "name": "python3"
  },
  "language_info": {
   "codemirror_mode": {
    "name": "ipython",
    "version": 3
   },
   "file_extension": ".py",
   "mimetype": "text/x-python",
   "name": "python",
   "nbconvert_exporter": "python",
   "pygments_lexer": "ipython3",
   "version": "3.7.7"
  }
 },
 "nbformat": 4,
 "nbformat_minor": 4
}
